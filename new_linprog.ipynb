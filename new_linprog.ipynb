{
 "cells": [
  {
   "cell_type": "code",
   "execution_count": 1,
   "id": "57109406",
   "metadata": {},
   "outputs": [],
   "source": [
    "import pandas as pd\n",
    "from scipy.optimize import linprog\n",
    "import numpy as np"
   ]
  },
  {
   "cell_type": "code",
   "execution_count": 2,
   "id": "c5df3e30",
   "metadata": {},
   "outputs": [
    {
     "data": {
      "text/html": [
       "<div>\n",
       "<style scoped>\n",
       "    .dataframe tbody tr th:only-of-type {\n",
       "        vertical-align: middle;\n",
       "    }\n",
       "\n",
       "    .dataframe tbody tr th {\n",
       "        vertical-align: top;\n",
       "    }\n",
       "\n",
       "    .dataframe thead th {\n",
       "        text-align: right;\n",
       "    }\n",
       "</style>\n",
       "<table border=\"1\" class=\"dataframe\">\n",
       "  <thead>\n",
       "    <tr style=\"text-align: right;\">\n",
       "      <th></th>\n",
       "      <th>Unnamed: 0</th>\n",
       "      <th>Имя</th>\n",
       "      <th>Цена</th>\n",
       "      <th>Сухое</th>\n",
       "      <th>Натура</th>\n",
       "      <th>Сырой</th>\n",
       "      <th>Крахмал</th>\n",
       "      <th>NDF</th>\n",
       "      <th>ADF</th>\n",
       "      <th>Ca</th>\n",
       "      <th>Phos</th>\n",
       "    </tr>\n",
       "  </thead>\n",
       "  <tbody>\n",
       "    <tr>\n",
       "      <th>0</th>\n",
       "      <td>Имся</td>\n",
       "      <td>единица</td>\n",
       "      <td>руб</td>\n",
       "      <td>кг</td>\n",
       "      <td>кг</td>\n",
       "      <td>кг</td>\n",
       "      <td>кг</td>\n",
       "      <td>кг</td>\n",
       "      <td>кг</td>\n",
       "      <td>кг</td>\n",
       "      <td>кг</td>\n",
       "    </tr>\n",
       "    <tr>\n",
       "      <th>1</th>\n",
       "      <td>Ячмень зерно</td>\n",
       "      <td>кг</td>\n",
       "      <td>10.000</td>\n",
       "      <td>0.900</td>\n",
       "      <td>1.111</td>\n",
       "      <td>0.150</td>\n",
       "      <td>0.500</td>\n",
       "      <td>0.200</td>\n",
       "      <td>0.100</td>\n",
       "      <td>0.002</td>\n",
       "      <td>0.003</td>\n",
       "    </tr>\n",
       "    <tr>\n",
       "      <th>2</th>\n",
       "      <td>Кукуруза зерно</td>\n",
       "      <td>кг</td>\n",
       "      <td>15.000</td>\n",
       "      <td>0.800</td>\n",
       "      <td>1.250</td>\n",
       "      <td>0.100</td>\n",
       "      <td>0.600</td>\n",
       "      <td>0.250</td>\n",
       "      <td>0.150</td>\n",
       "      <td>0.003</td>\n",
       "      <td>0.004</td>\n",
       "    </tr>\n",
       "    <tr>\n",
       "      <th>3</th>\n",
       "      <td>Силос</td>\n",
       "      <td>кг</td>\n",
       "      <td>5.000</td>\n",
       "      <td>0.400</td>\n",
       "      <td>2.500</td>\n",
       "      <td>0.050</td>\n",
       "      <td>0.300</td>\n",
       "      <td>0.400</td>\n",
       "      <td>0.200</td>\n",
       "      <td>0.004</td>\n",
       "      <td>0.005</td>\n",
       "    </tr>\n",
       "    <tr>\n",
       "      <th>4</th>\n",
       "      <td>Соя шрот</td>\n",
       "      <td>кг</td>\n",
       "      <td>20.000</td>\n",
       "      <td>0.900</td>\n",
       "      <td>1.111</td>\n",
       "      <td>0.400</td>\n",
       "      <td>0.200</td>\n",
       "      <td>0.300</td>\n",
       "      <td>0.250</td>\n",
       "      <td>0.005</td>\n",
       "      <td>0.006</td>\n",
       "    </tr>\n",
       "  </tbody>\n",
       "</table>\n",
       "</div>"
      ],
      "text/plain": [
       "       Unnamed: 0      Имя    Цена  Сухое Натура  Сырой Крахмал    NDF    ADF  \\\n",
       "0            Имся  единица     руб     кг     кг     кг      кг     кг     кг   \n",
       "1    Ячмень зерно       кг  10.000  0.900  1.111  0.150   0.500  0.200  0.100   \n",
       "2  Кукуруза зерно       кг  15.000  0.800  1.250  0.100   0.600  0.250  0.150   \n",
       "3           Силос       кг   5.000  0.400  2.500  0.050   0.300  0.400  0.200   \n",
       "4        Соя шрот       кг  20.000  0.900  1.111  0.400   0.200  0.300  0.250   \n",
       "\n",
       "      Ca   Phos  \n",
       "0     кг     кг  \n",
       "1  0.002  0.003  \n",
       "2  0.003  0.004  \n",
       "3  0.004  0.005  \n",
       "4  0.005  0.006  "
      ]
     },
     "execution_count": 2,
     "metadata": {},
     "output_type": "execute_result"
    }
   ],
   "source": [
    "df=pd.read_excel('data1.xlsx')\n",
    "df"
   ]
  },
  {
   "cell_type": "code",
   "execution_count": 3,
   "id": "876c5245",
   "metadata": {},
   "outputs": [],
   "source": [
    "class method1():\n",
    "    def __init__(self, nerva_lp, nerva_rp, costs, bnd, ratio=None):\n",
    "        self.nerva_lp=nerva_lp\n",
    "        self.nerva_rp=nerva_rp\n",
    "        self.costs=costs\n",
    "        self.bnd=bnd\n",
    "        self.ratio=ratio\n",
    "#         self.eq_lp=eq_lp\n",
    "#         self.eq_rp=eq_rp\n",
    "\n",
    "    def find_opt(self):\n",
    "        if not self.ratio is None:\n",
    "            A_ub=np.concatenate([self.nerva_lp, self.ratio], axis=0)\n",
    "            b_ub=np.concatenate([self.nerva_rp, np.zeros(self.ratio.shape[0])], axis=0)\n",
    "        else:\n",
    "            A_ub=self.nerva_lp\n",
    "            b_ub=self.nerva_rp\n",
    "                       \n",
    "        opt = linprog(c=self.costs, \n",
    "        A_ub=A_ub,\n",
    "        b_ub=b_ub,\n",
    "        #A_eq=eq_lp, b_eq=eq_rp, \n",
    "        bounds=self.bnd,\n",
    "        method=\"highs\")\n",
    "        return {'success':opt.success, 'x':opt.x, 'fun':opt.fun}\n",
    "    \n",
    "    def bnd2condition(comps_bnd):\n",
    "        cond_l=[]\n",
    "        cond_r=[]\n",
    "        for num, i in enumerate(comps_bnd):\n",
    "            if i[0]:\n",
    "                cond_l.append(-main_mat[:, num])\n",
    "                cond_r.append(-i[0])\n",
    "            if i[1]:\n",
    "                cond_l.append(main_mat[:, num])\n",
    "                cond_r.append(i[1])\n",
    "        cond_l=np.array(cond_l)\n",
    "        cond_r=np.array(cond_r)\n",
    "        return cond_l, cond_r\n",
    "    \n",
    "    def change_bnd(self):\n",
    "        #self.bnd=np.stack([np.where(self.bnd[:, 0]-[1/costs[0]]<0, 0, self.bnd[:, 0]-[1/costs[1]]), self.bnd[:, 1]+[1/costs[0]]], axis=1)\n",
    "        self.nerva_rp=np.where(test1.nerva_rp[:]>0, test1.nerva_rp[:]*1.1, test1.nerva_rp[:]/1.1)\n",
    "        #print(self.nerva_rp)\n",
    "        \n",
    "    def find_rad(self, num):\n",
    "        counter=0\n",
    "        if num==1:\n",
    "            #Постепенно расширяет границы условий\n",
    "            while not self.find_opt()['success']:\n",
    "                self.change_bnd()\n",
    "                print('№', counter, self.nerva_rp)\n",
    "                counter+=1\n",
    "        elif num==2:\n",
    "#             A_ub=self.nerva_lp\n",
    "#             b_ub=np.where(test1.nerva_rp[:]>0, float('inf'), 0)\n",
    "            opt = linprog(c=self.costs, \n",
    "            A_ub=[[0 , 0]],\n",
    "            b_ub=[0],\n",
    "            #A_eq=eq_lp, b_eq=eq_rp, \n",
    "            bounds=self.bnd,\n",
    "            method=\"highs\")\n",
    "            return {'success':opt.success, 'x':opt.x, 'fun':opt.fun}\n",
    "            \n",
    "        return self.find_opt()"
   ]
  },
  {
   "cell_type": "code",
   "execution_count": 4,
   "id": "bbb90fc7",
   "metadata": {},
   "outputs": [
    {
     "data": {
      "text/plain": [
       "array([[1.000e+01, 9.000e-01, 1.111e+00, 1.500e-01, 5.000e-01, 2.000e-01,\n",
       "        1.000e-01, 2.000e-03, 3.000e-03],\n",
       "       [1.500e+01, 8.000e-01, 1.250e+00, 1.000e-01, 6.000e-01, 2.500e-01,\n",
       "        1.500e-01, 3.000e-03, 4.000e-03],\n",
       "       [5.000e+00, 4.000e-01, 2.500e+00, 5.000e-02, 3.000e-01, 4.000e-01,\n",
       "        2.000e-01, 4.000e-03, 5.000e-03],\n",
       "       [2.000e+01, 9.000e-01, 1.111e+00, 4.000e-01, 2.000e-01, 3.000e-01,\n",
       "        2.500e-01, 5.000e-03, 6.000e-03]])"
      ]
     },
     "execution_count": 4,
     "metadata": {},
     "output_type": "execute_result"
    }
   ],
   "source": [
    "datas=df.drop([0], axis=0).drop(['Unnamed: 0', 'Имя'], axis=1).astype(float).to_numpy()\n",
    "datas"
   ]
  },
  {
   "cell_type": "code",
   "execution_count": 5,
   "id": "bbf9a77d",
   "metadata": {},
   "outputs": [
    {
     "data": {
      "text/plain": [
       "array([10., 15.,  5., 20.])"
      ]
     },
     "execution_count": 5,
     "metadata": {},
     "output_type": "execute_result"
    }
   ],
   "source": [
    "costs=datas[:, 0]\n",
    "costs"
   ]
  },
  {
   "cell_type": "code",
   "execution_count": 6,
   "id": "e49f54ba",
   "metadata": {},
   "outputs": [
    {
     "data": {
      "text/plain": [
       "array([1.111, 1.25 , 2.5  , 1.111])"
      ]
     },
     "execution_count": 6,
     "metadata": {},
     "output_type": "execute_result"
    }
   ],
   "source": [
    "voda=datas[:, 2]\n",
    "voda"
   ]
  },
  {
   "cell_type": "code",
   "execution_count": 7,
   "id": "994d2733",
   "metadata": {},
   "outputs": [
    {
     "data": {
      "text/plain": [
       "array([[0.15 , 0.5  , 0.2  , 0.1  , 0.002, 0.003],\n",
       "       [0.1  , 0.6  , 0.25 , 0.15 , 0.003, 0.004],\n",
       "       [0.05 , 0.3  , 0.4  , 0.2  , 0.004, 0.005],\n",
       "       [0.4  , 0.2  , 0.3  , 0.25 , 0.005, 0.006]])"
      ]
     },
     "execution_count": 7,
     "metadata": {},
     "output_type": "execute_result"
    }
   ],
   "source": [
    "componets_for_div=datas[:, 3:]\n",
    "componets_for_div"
   ]
  },
  {
   "cell_type": "code",
   "execution_count": 8,
   "id": "88f780ed",
   "metadata": {},
   "outputs": [
    {
     "data": {
      "text/plain": [
       "array([[0.1350135 , 0.450045  , 0.180018  , 0.090009  , 0.00180018,\n",
       "        0.00270027],\n",
       "       [0.08      , 0.48      , 0.2       , 0.12      , 0.0024    ,\n",
       "        0.0032    ],\n",
       "       [0.02      , 0.12      , 0.16      , 0.08      , 0.0016    ,\n",
       "        0.002     ],\n",
       "       [0.360036  , 0.180018  , 0.270027  , 0.2250225 , 0.00450045,\n",
       "        0.00540054]])"
      ]
     },
     "execution_count": 8,
     "metadata": {},
     "output_type": "execute_result"
    }
   ],
   "source": [
    "divided=np.transpose(np.transpose(componets_for_div)/voda)\n",
    "divided"
   ]
  },
  {
   "cell_type": "code",
   "execution_count": 9,
   "id": "aa990b6b",
   "metadata": {},
   "outputs": [
    {
     "data": {
      "text/plain": [
       "array([[0.9       , 0.1350135 , 0.450045  , 0.180018  , 0.090009  ,\n",
       "        0.00180018, 0.00270027],\n",
       "       [0.8       , 0.08      , 0.48      , 0.2       , 0.12      ,\n",
       "        0.0024    , 0.0032    ],\n",
       "       [0.4       , 0.02      , 0.12      , 0.16      , 0.08      ,\n",
       "        0.0016    , 0.002     ],\n",
       "       [0.9       , 0.360036  , 0.180018  , 0.270027  , 0.2250225 ,\n",
       "        0.00450045, 0.00540054]])"
      ]
     },
     "execution_count": 9,
     "metadata": {},
     "output_type": "execute_result"
    }
   ],
   "source": [
    "matrix=np.concatenate([datas[:,1].reshape((4, 1)), divided], axis=1)\n",
    "matrix"
   ]
  },
  {
   "cell_type": "markdown",
   "id": "30067185",
   "metadata": {},
   "source": [
    "Первый индекс описывает продукт\n",
    "1\tЯчмень зерно\t\n",
    "2\tКукуруза зерно\t\n",
    "3\tСилос\t\n",
    "4\tСоя шрот\n",
    "Второй индекс описывает компонент (кроме натурального, ушёл как коэф.)\n",
    "1 Сухое\n",
    "2 Сырой\n",
    "3 Крахмал\n",
    "4 NDF\n",
    "5 ADF\n",
    "6 Ca\n",
    "7 Phos"
   ]
  },
  {
   "cell_type": "code",
   "execution_count": 10,
   "id": "e19c1da4",
   "metadata": {},
   "outputs": [],
   "source": [
    "products=[2, 3]#Номера продуктов\n",
    "comps=[0, 1, 2]#Номера компонентов\n",
    "comps_bnd=[[2, 4],[1, None],[None, None]]#Ограничения на компоненты\n",
    "sootnosheniya=[[1, 2, 0], [3, 0, 4]]"
   ]
  },
  {
   "cell_type": "markdown",
   "id": "c10e0766",
   "metadata": {},
   "source": [
    "Если условие больше, то данные идут с плюсом.\n",
    "Если меньше, то надо умножить на -1"
   ]
  },
  {
   "cell_type": "code",
   "execution_count": 11,
   "id": "61524cfa",
   "metadata": {},
   "outputs": [
    {
     "name": "stdout",
     "output_type": "stream",
     "text": [
      "[[-0.4      -0.9     ]\n",
      " [ 0.4       0.9     ]\n",
      " [-0.02     -0.360036]]\n",
      "\n",
      "[-2  4 -1]\n"
     ]
    }
   ],
   "source": [
    "def get_data():\n",
    "    main_mat=matrix[products, :][:, comps]\n",
    "    for_ratio=np.sum(main_mat, axis=1)\n",
    "    return main_mat, for_ratio\n",
    "\n",
    "main_mat, for_ratio=get_data()\n",
    "cond_l, cond_r=method1.bnd2condition(comps_bnd)\n",
    "print(cond_l)\n",
    "print()\n",
    "print(cond_r)"
   ]
  },
  {
   "cell_type": "code",
   "execution_count": null,
   "id": "a872f29b",
   "metadata": {},
   "outputs": [],
   "source": []
  },
  {
   "cell_type": "code",
   "execution_count": 12,
   "id": "e51ad970",
   "metadata": {},
   "outputs": [
    {
     "data": {
      "text/plain": [
       "array([0.54      , 1.44005401])"
      ]
     },
     "execution_count": 12,
     "metadata": {},
     "output_type": "execute_result"
    }
   ],
   "source": [
    "for_ratio"
   ]
  },
  {
   "cell_type": "code",
   "execution_count": 13,
   "id": "79f82b44",
   "metadata": {},
   "outputs": [
    {
     "data": {
      "text/plain": [
       "array([[-0.54    ,  0.720027]])"
      ]
     },
     "execution_count": 13,
     "metadata": {},
     "output_type": "execute_result"
    }
   ],
   "source": [
    "#Тут лежит соотношение компонента1 к компоненте2 не менее чем 1 к 2\n",
    "new_line=for_ratio/np.array([-1, 2]) # Тут лежит 1 к 2\n",
    "# new_line=for_ratio/np.array([-1, 2, float('inf')]) нули так получаются\n",
    "new_line=new_line.reshape([1, 2])\n",
    "new_line"
   ]
  },
  {
   "cell_type": "code",
   "execution_count": 14,
   "id": "16e18df1",
   "metadata": {},
   "outputs": [
    {
     "data": {
      "text/plain": [
       "{'success': True, 'x': array([10.,  2.]), 'fun': 90.0}"
      ]
     },
     "execution_count": 14,
     "metadata": {},
     "output_type": "execute_result"
    }
   ],
   "source": [
    "test1=method1([[0, 0]], [0], costs[products], bnd=[[10, float('inf')], [2, float('inf')]], ratio=new_line)\n",
    "opt=test1.find_opt()\n",
    "opt"
   ]
  },
  {
   "cell_type": "code",
   "execution_count": 15,
   "id": "2c61866a",
   "metadata": {},
   "outputs": [
    {
     "data": {
      "text/plain": [
       "array([5.4       , 2.88010801])"
      ]
     },
     "execution_count": 15,
     "metadata": {},
     "output_type": "execute_result"
    }
   ],
   "source": [
    "#Проверка соотношения\n",
    "np.sum(main_mat, axis=1)*opt['x'] # Не менее чем 1 к 2"
   ]
  },
  {
   "cell_type": "code",
   "execution_count": 16,
   "id": "06952d82",
   "metadata": {},
   "outputs": [
    {
     "data": {
      "text/plain": [
       "{'success': False, 'x': None, 'fun': None}"
      ]
     },
     "execution_count": 16,
     "metadata": {},
     "output_type": "execute_result"
    }
   ],
   "source": [
    "test1=method1(cond_l, cond_r, costs[products], bnd=[[10, float('inf')], [2, float('inf')]], ratio=new_line)\n",
    "opt=test1.find_opt()\n",
    "opt"
   ]
  },
  {
   "cell_type": "code",
   "execution_count": 17,
   "id": "f6f1ad92",
   "metadata": {},
   "outputs": [
    {
     "name": "stdout",
     "output_type": "stream",
     "text": [
      "№ 0 [-1.81818182  4.4        -0.90909091]\n",
      "№ 1 [-1.65289256  4.84       -0.82644628]\n",
      "№ 2 [-1.5026296  5.324     -0.7513148]\n",
      "№ 3 [-1.36602691  5.8564     -0.68301346]\n"
     ]
    },
    {
     "data": {
      "text/plain": [
       "{'success': True, 'x': array([10.,  2.]), 'fun': 90.0}"
      ]
     },
     "execution_count": 17,
     "metadata": {},
     "output_type": "execute_result"
    }
   ],
   "source": [
    "test1.find_rad(1) #Расширить границы"
   ]
  },
  {
   "cell_type": "code",
   "execution_count": 18,
   "id": "32bea82c",
   "metadata": {},
   "outputs": [
    {
     "data": {
      "text/plain": [
       "{'success': True, 'x': array([10.,  2.]), 'fun': 90.0}"
      ]
     },
     "execution_count": 18,
     "metadata": {},
     "output_type": "execute_result"
    }
   ],
   "source": [
    "test1.find_rad(2) #Убрать ограничения"
   ]
  },
  {
   "cell_type": "code",
   "execution_count": 19,
   "id": "8f45e0bd",
   "metadata": {},
   "outputs": [
    {
     "data": {
      "text/plain": [
       "{'success': False, 'x': None, 'fun': None}"
      ]
     },
     "execution_count": 19,
     "metadata": {},
     "output_type": "execute_result"
    }
   ],
   "source": [
    "test1=method1(cond_l, cond_r, costs[products], bnd=[[10, float('inf')], [2, float('inf')]])\n",
    "opt=test1.find_opt()\n",
    "opt"
   ]
  },
  {
   "cell_type": "code",
   "execution_count": null,
   "id": "438d10b5",
   "metadata": {},
   "outputs": [],
   "source": []
  }
 ],
 "metadata": {
  "kernelspec": {
   "display_name": "Python 3 (ipykernel)",
   "language": "python",
   "name": "python3"
  },
  "language_info": {
   "codemirror_mode": {
    "name": "ipython",
    "version": 3
   },
   "file_extension": ".py",
   "mimetype": "text/x-python",
   "name": "python",
   "nbconvert_exporter": "python",
   "pygments_lexer": "ipython3",
   "version": "3.10.9"
  }
 },
 "nbformat": 4,
 "nbformat_minor": 5
}
