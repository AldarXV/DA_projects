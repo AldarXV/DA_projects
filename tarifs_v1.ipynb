{
 "cells": [
  {
   "cell_type": "code",
   "execution_count": 1,
   "id": "bcbac092",
   "metadata": {},
   "outputs": [],
   "source": [
    "import pandas as pd \n",
    "import numpy as np\n",
    "#import lime \n",
    "#import lime.lime_tabular\n",
    "\n",
    "from sklearn.model_selection import train_test_split\n",
    "from sklearn.impute import KNNImputer\n",
    "from sklearn.preprocessing import MinMaxScaler\n",
    "from sklearn.linear_model import LinearRegression\n",
    "from sklearn.ensemble import RandomForestRegressor, GradientBoostingRegressor\n",
    "from sklearn.svm import SVR\n",
    "\n",
    "import matplotlib.pyplot as plt\n",
    "%matplotlib inline"
   ]
  },
  {
   "cell_type": "code",
   "execution_count": 2,
   "id": "0682c2ca",
   "metadata": {},
   "outputs": [],
   "source": [
    "filename='123.xlsx'"
   ]
  },
  {
   "cell_type": "code",
   "execution_count": 3,
   "id": "a8bd3b63",
   "metadata": {},
   "outputs": [],
   "source": [
    "df=pd.read_excel(filename)# Read in data into a dataframe e"
   ]
  },
  {
   "cell_type": "code",
   "execution_count": 4,
   "id": "0c5b2f55",
   "metadata": {},
   "outputs": [
    {
     "name": "stdout",
     "output_type": "stream",
     "text": [
      "<class 'pandas.core.frame.DataFrame'>\n",
      "RangeIndex: 5047 entries, 0 to 5046\n",
      "Data columns (total 87 columns):\n",
      " #   Column                       Non-Null Count  Dtype  \n",
      "---  ------                       --------------  -----  \n",
      " 0   program_id                   5047 non-null   int64  \n",
      " 1   program_city_group           3688 non-null   float64\n",
      " 2   age_group                    5047 non-null   object \n",
      " 3   gender_group                 2530 non-null   float64\n",
      " 4   service_type_id              5047 non-null   int64  \n",
      " 5   distance_min                 2834 non-null   float64\n",
      " 6   cpr_max                      3827 non-null   float64\n",
      " 7   cpr_mean                     3827 non-null   float64\n",
      " 8   cpr_median                   3827 non-null   float64\n",
      " 9   cpr_std                      2609 non-null   float64\n",
      " 10  cpr_min                      3827 non-null   float64\n",
      " 11  cpr_region                   5047 non-null   float64\n",
      " 12  number_of_clinics_in_progam  5047 non-null   int64  \n",
      " 13  clinic_franchise             1168 non-null   float64\n",
      " 14  target                       5047 non-null   object \n",
      " 15  analysis_urin_avg_max        2976 non-null   float64\n",
      " 16  analysis_urin_avg_mean       2976 non-null   float64\n",
      " 17  analysis_urin_avg_min        2976 non-null   float64\n",
      " 18  airflow_avg_max              1060 non-null   float64\n",
      " 19  airflow_avg_mean             1060 non-null   float64\n",
      " 20  airflow_avg_min              1060 non-null   float64\n",
      " 21  analysis_blood_avg_max       2975 non-null   float64\n",
      " 22  analysis_blood_avg_mean      2975 non-null   float64\n",
      " 23  analysis_blood_avg_min       2975 non-null   float64\n",
      " 24  analysis_copro_avg_max       2893 non-null   float64\n",
      " 25  analysis_copro_avg_mean      2893 non-null   float64\n",
      " 26  analysis_copro_avg_min       2893 non-null   float64\n",
      " 27  anestesy_avg_max             2433 non-null   float64\n",
      " 28  anestesy_avg_mean            2433 non-null   float64\n",
      " 29  anestesy_avg_min             2433 non-null   float64\n",
      " 30  anti_hcv_avg_max             2842 non-null   float64\n",
      " 31  anti_hcv_avg_mean            2842 non-null   float64\n",
      " 32  anti_hcv_avg_min             2842 non-null   float64\n",
      " 33  dent_plomb_avg_max           1708 non-null   float64\n",
      " 34  dent_plomb_avg_mean          1708 non-null   float64\n",
      " 35  dent_plomb_avg_min           1708 non-null   float64\n",
      " 36  dent_remov_avg_max           1739 non-null   float64\n",
      " 37  dent_remov_avg_mean          1739 non-null   float64\n",
      " 38  dent_remov_avg_min           1739 non-null   float64\n",
      " 39  dent_usonic_avg_max          1676 non-null   float64\n",
      " 40  dent_usonic_avg_mean         1676 non-null   float64\n",
      " 41  dent_usonic_avg_min          1676 non-null   float64\n",
      " 42  doctor_visit_avg_max         2964 non-null   float64\n",
      " 43  doctor_visit_avg_mean        2964 non-null   float64\n",
      " 44  doctor_visit_avg_min         2964 non-null   float64\n",
      " 45  massage_avg_max              2580 non-null   float64\n",
      " 46  massage_avg_mean             2580 non-null   float64\n",
      " 47  massage_avg_min              2580 non-null   float64\n",
      " 48  massage_int_avg_max          1839 non-null   float64\n",
      " 49  massage_int_avg_mean         1839 non-null   float64\n",
      " 50  massage_int_avg_min          1839 non-null   float64\n",
      " 51  massage_neck_avg_max         2425 non-null   float64\n",
      " 52  massage_neck_avg_mean        2425 non-null   float64\n",
      " 53  massage_neck_avg_min         2425 non-null   float64\n",
      " 54  usound_ginec_avg_max         2712 non-null   float64\n",
      " 55  usound_ginec_avg_mean        2712 non-null   float64\n",
      " 56  usound_ginec_avg_min         2712 non-null   float64\n",
      " 57  usound_shield_avg_max        2529 non-null   float64\n",
      " 58  usound_shield_avg_mean       2529 non-null   float64\n",
      " 59  usound_shield_avg_min        2529 non-null   float64\n",
      " 60  visit_card_avg_max           2661 non-null   float64\n",
      " 61  visit_card_avg_mean          2661 non-null   float64\n",
      " 62  visit_card_avg_min           2661 non-null   float64\n",
      " 63  visit_dent_avg_max           1797 non-null   float64\n",
      " 64  visit_dent_avg_mean          1797 non-null   float64\n",
      " 65  visit_dent_avg_min           1797 non-null   float64\n",
      " 66  visit_gastr_avg_max          2618 non-null   float64\n",
      " 67  visit_gastr_avg_mean         2618 non-null   float64\n",
      " 68  visit_gastr_avg_min          2618 non-null   float64\n",
      " 69  visit_genic_avg_max          2792 non-null   float64\n",
      " 70  visit_genic_avg_mean         2792 non-null   float64\n",
      " 71  visit_genic_avg_min          2792 non-null   float64\n",
      " 72  visit_lor_avg_max            2745 non-null   float64\n",
      " 73  visit_lor_avg_mean           2745 non-null   float64\n",
      " 74  visit_lor_avg_min            2745 non-null   float64\n",
      " 75  visit_neur_avg_max           2683 non-null   float64\n",
      " 76  visit_neur_avg_mean          2683 non-null   float64\n",
      " 77  visit_neur_avg_min           2683 non-null   float64\n",
      " 78  visit_neuro_avg_max          2797 non-null   float64\n",
      " 79  visit_neuro_avg_mean         2797 non-null   float64\n",
      " 80  visit_neuro_avg_min          2797 non-null   float64\n",
      " 81  visit_oft_avg_max            2725 non-null   float64\n",
      " 82  visit_oft_avg_mean           2725 non-null   float64\n",
      " 83  visit_oft_avg_min            2725 non-null   float64\n",
      " 84  visit_surg_avg_max           2654 non-null   float64\n",
      " 85  visit_surg_avg_mean          2654 non-null   float64\n",
      " 86  visit_surg_avg_min           2654 non-null   float64\n",
      "dtypes: float64(82), int64(3), object(2)\n",
      "memory usage: 3.4+ MB\n"
     ]
    }
   ],
   "source": [
    "df.info() # See data types and non-missing values"
   ]
  },
  {
   "cell_type": "code",
   "execution_count": 5,
   "id": "47555f34",
   "metadata": {},
   "outputs": [],
   "source": [
    "# formating data\n",
    "df['target']=pd.to_numeric(df['target'], errors='coerce')\n",
    "df[\"age_group\"].replace({\"age_group_1\": 0, \"age_group_2\": 1}, inplace=True)\n",
    "df[\"program_city_group\"].replace({1: 0, 2: 1}, inplace=True)\n",
    "df[\"service_type_id\"].replace({1: 0, 2: 1}, inplace=True)"
   ]
  },
  {
   "cell_type": "code",
   "execution_count": 6,
   "id": "72bace68",
   "metadata": {},
   "outputs": [
    {
     "data": {
      "text/plain": [
       "33"
      ]
     },
     "execution_count": 6,
     "metadata": {},
     "output_type": "execute_result"
    }
   ],
   "source": [
    "# leaving columns with a percentage of nan below 45%\n",
    "df = df.loc[:, df.isnull().mean() < .45]\n",
    "df.shape[1]"
   ]
  },
  {
   "cell_type": "code",
   "execution_count": 7,
   "id": "ca32bb28",
   "metadata": {},
   "outputs": [
    {
     "data": {
      "text/html": [
       "<div>\n",
       "<style scoped>\n",
       "    .dataframe tbody tr th:only-of-type {\n",
       "        vertical-align: middle;\n",
       "    }\n",
       "\n",
       "    .dataframe tbody tr th {\n",
       "        vertical-align: top;\n",
       "    }\n",
       "\n",
       "    .dataframe thead th {\n",
       "        text-align: right;\n",
       "    }\n",
       "</style>\n",
       "<table border=\"1\" class=\"dataframe\">\n",
       "  <thead>\n",
       "    <tr style=\"text-align: right;\">\n",
       "      <th></th>\n",
       "      <th>program_id</th>\n",
       "      <th>program_city_group</th>\n",
       "      <th>age_group</th>\n",
       "      <th>service_type_id</th>\n",
       "      <th>distance_min</th>\n",
       "      <th>cpr_max</th>\n",
       "      <th>cpr_mean</th>\n",
       "      <th>cpr_median</th>\n",
       "      <th>cpr_min</th>\n",
       "      <th>cpr_region</th>\n",
       "      <th>...</th>\n",
       "      <th>anti_hcv_avg_min</th>\n",
       "      <th>doctor_visit_avg_max</th>\n",
       "      <th>doctor_visit_avg_mean</th>\n",
       "      <th>doctor_visit_avg_min</th>\n",
       "      <th>visit_genic_avg_max</th>\n",
       "      <th>visit_genic_avg_mean</th>\n",
       "      <th>visit_genic_avg_min</th>\n",
       "      <th>visit_neuro_avg_max</th>\n",
       "      <th>visit_neuro_avg_mean</th>\n",
       "      <th>visit_neuro_avg_min</th>\n",
       "    </tr>\n",
       "  </thead>\n",
       "  <tbody>\n",
       "    <tr>\n",
       "      <th>0</th>\n",
       "      <td>1358</td>\n",
       "      <td>1.0</td>\n",
       "      <td>0</td>\n",
       "      <td>0</td>\n",
       "      <td>NaN</td>\n",
       "      <td>1.687585</td>\n",
       "      <td>1.687585</td>\n",
       "      <td>1.687585</td>\n",
       "      <td>1.687585</td>\n",
       "      <td>3.211632</td>\n",
       "      <td>...</td>\n",
       "      <td>5.250</td>\n",
       "      <td>9.525</td>\n",
       "      <td>6.622640</td>\n",
       "      <td>3.38889</td>\n",
       "      <td>1.800</td>\n",
       "      <td>1.800000</td>\n",
       "      <td>1.8</td>\n",
       "      <td>1.8</td>\n",
       "      <td>1.8000</td>\n",
       "      <td>1.8</td>\n",
       "    </tr>\n",
       "    <tr>\n",
       "      <th>1</th>\n",
       "      <td>1358</td>\n",
       "      <td>1.0</td>\n",
       "      <td>0</td>\n",
       "      <td>1</td>\n",
       "      <td>NaN</td>\n",
       "      <td>NaN</td>\n",
       "      <td>NaN</td>\n",
       "      <td>NaN</td>\n",
       "      <td>NaN</td>\n",
       "      <td>4.183154</td>\n",
       "      <td>...</td>\n",
       "      <td>NaN</td>\n",
       "      <td>NaN</td>\n",
       "      <td>NaN</td>\n",
       "      <td>NaN</td>\n",
       "      <td>NaN</td>\n",
       "      <td>NaN</td>\n",
       "      <td>NaN</td>\n",
       "      <td>NaN</td>\n",
       "      <td>NaN</td>\n",
       "      <td>NaN</td>\n",
       "    </tr>\n",
       "    <tr>\n",
       "      <th>2</th>\n",
       "      <td>1358</td>\n",
       "      <td>1.0</td>\n",
       "      <td>0</td>\n",
       "      <td>0</td>\n",
       "      <td>NaN</td>\n",
       "      <td>1.975258</td>\n",
       "      <td>1.355735</td>\n",
       "      <td>0.652630</td>\n",
       "      <td>0.481200</td>\n",
       "      <td>3.174975</td>\n",
       "      <td>...</td>\n",
       "      <td>5.250</td>\n",
       "      <td>9.525</td>\n",
       "      <td>6.622640</td>\n",
       "      <td>3.38889</td>\n",
       "      <td>1.800</td>\n",
       "      <td>1.800000</td>\n",
       "      <td>1.8</td>\n",
       "      <td>1.8</td>\n",
       "      <td>1.8000</td>\n",
       "      <td>1.8</td>\n",
       "    </tr>\n",
       "    <tr>\n",
       "      <th>3</th>\n",
       "      <td>1358</td>\n",
       "      <td>1.0</td>\n",
       "      <td>0</td>\n",
       "      <td>1</td>\n",
       "      <td>NaN</td>\n",
       "      <td>3.741448</td>\n",
       "      <td>3.485539</td>\n",
       "      <td>3.485539</td>\n",
       "      <td>3.229630</td>\n",
       "      <td>3.754277</td>\n",
       "      <td>...</td>\n",
       "      <td>NaN</td>\n",
       "      <td>NaN</td>\n",
       "      <td>NaN</td>\n",
       "      <td>NaN</td>\n",
       "      <td>NaN</td>\n",
       "      <td>NaN</td>\n",
       "      <td>NaN</td>\n",
       "      <td>NaN</td>\n",
       "      <td>NaN</td>\n",
       "      <td>NaN</td>\n",
       "    </tr>\n",
       "    <tr>\n",
       "      <th>4</th>\n",
       "      <td>811</td>\n",
       "      <td>1.0</td>\n",
       "      <td>0</td>\n",
       "      <td>0</td>\n",
       "      <td>NaN</td>\n",
       "      <td>1.647994</td>\n",
       "      <td>1.861750</td>\n",
       "      <td>1.227380</td>\n",
       "      <td>0.732298</td>\n",
       "      <td>2.319465</td>\n",
       "      <td>...</td>\n",
       "      <td>1.225</td>\n",
       "      <td>6.000</td>\n",
       "      <td>4.472715</td>\n",
       "      <td>3.14375</td>\n",
       "      <td>7.325</td>\n",
       "      <td>5.377145</td>\n",
       "      <td>4.5</td>\n",
       "      <td>6.5</td>\n",
       "      <td>4.9115</td>\n",
       "      <td>4.0</td>\n",
       "    </tr>\n",
       "  </tbody>\n",
       "</table>\n",
       "<p>5 rows × 33 columns</p>\n",
       "</div>"
      ],
      "text/plain": [
       "   program_id  program_city_group  age_group  service_type_id  distance_min  \\\n",
       "0        1358                 1.0          0                0           NaN   \n",
       "1        1358                 1.0          0                1           NaN   \n",
       "2        1358                 1.0          0                0           NaN   \n",
       "3        1358                 1.0          0                1           NaN   \n",
       "4         811                 1.0          0                0           NaN   \n",
       "\n",
       "    cpr_max  cpr_mean  cpr_median   cpr_min  cpr_region  ...  \\\n",
       "0  1.687585  1.687585    1.687585  1.687585    3.211632  ...   \n",
       "1       NaN       NaN         NaN       NaN    4.183154  ...   \n",
       "2  1.975258  1.355735    0.652630  0.481200    3.174975  ...   \n",
       "3  3.741448  3.485539    3.485539  3.229630    3.754277  ...   \n",
       "4  1.647994  1.861750    1.227380  0.732298    2.319465  ...   \n",
       "\n",
       "   anti_hcv_avg_min  doctor_visit_avg_max  doctor_visit_avg_mean  \\\n",
       "0             5.250                 9.525               6.622640   \n",
       "1               NaN                   NaN                    NaN   \n",
       "2             5.250                 9.525               6.622640   \n",
       "3               NaN                   NaN                    NaN   \n",
       "4             1.225                 6.000               4.472715   \n",
       "\n",
       "   doctor_visit_avg_min  visit_genic_avg_max  visit_genic_avg_mean  \\\n",
       "0               3.38889                1.800              1.800000   \n",
       "1                   NaN                  NaN                   NaN   \n",
       "2               3.38889                1.800              1.800000   \n",
       "3                   NaN                  NaN                   NaN   \n",
       "4               3.14375                7.325              5.377145   \n",
       "\n",
       "   visit_genic_avg_min  visit_neuro_avg_max  visit_neuro_avg_mean  \\\n",
       "0                  1.8                  1.8                1.8000   \n",
       "1                  NaN                  NaN                   NaN   \n",
       "2                  1.8                  1.8                1.8000   \n",
       "3                  NaN                  NaN                   NaN   \n",
       "4                  4.5                  6.5                4.9115   \n",
       "\n",
       "   visit_neuro_avg_min  \n",
       "0                  1.8  \n",
       "1                  NaN  \n",
       "2                  1.8  \n",
       "3                  NaN  \n",
       "4                  4.0  \n",
       "\n",
       "[5 rows x 33 columns]"
      ]
     },
     "execution_count": 7,
     "metadata": {},
     "output_type": "execute_result"
    }
   ],
   "source": [
    "df.head()"
   ]
  },
  {
   "cell_type": "code",
   "execution_count": 8,
   "id": "d2b560ca",
   "metadata": {},
   "outputs": [
    {
     "data": {
      "text/plain": [
       "1694"
      ]
     },
     "execution_count": 8,
     "metadata": {},
     "output_type": "execute_result"
    }
   ],
   "source": [
    "# program_id\n",
    "len(df['program_id'].unique())"
   ]
  },
  {
   "cell_type": "code",
   "execution_count": 9,
   "id": "3d0b8894",
   "metadata": {},
   "outputs": [],
   "source": [
    "# the program_id column looks non informative\n",
    "df=df.drop(columns='program_id')"
   ]
  },
  {
   "cell_type": "code",
   "execution_count": 10,
   "id": "5928a660",
   "metadata": {},
   "outputs": [
    {
     "data": {
      "text/plain": [
       "(5047, 32)"
      ]
     },
     "execution_count": 10,
     "metadata": {},
     "output_type": "execute_result"
    }
   ],
   "source": [
    "df.shape"
   ]
  },
  {
   "cell_type": "code",
   "execution_count": 11,
   "id": "fafc2d84",
   "metadata": {},
   "outputs": [],
   "source": [
    "# deleting collinear columns\n",
    "def big_corr_remove(data, limit):\n",
    "    tmp = data['target']\n",
    "    data = data.drop(columns = ['target'])\n",
    "    \n",
    "    corr_matrix = data.corr()\n",
    "    col_len = len(corr_matrix.columns) - 1\n",
    "    drop_cols = []\n",
    "\n",
    "    # comparing correlations\n",
    "    for i in range(col_len):\n",
    "        for j in range(i):\n",
    "            item = corr_matrix.iloc[j:(j+1), (i+1):(i+2)]\n",
    "            col = item.columns\n",
    "            row = item.index\n",
    "            value = abs(item.values)            \n",
    "            if value >= limit:\n",
    "                drop_cols.append(col.values[0])\n",
    "    # Delete correlated columns\n",
    "    print(drop_cols)\n",
    "    drops = set(drop_cols)\n",
    "    \n",
    "    data = data.drop(columns = drops)\n",
    "    #print(data)\n",
    "    \n",
    "    data['target'] = tmp\n",
    "    #print(data)\n",
    "    return data"
   ]
  },
  {
   "cell_type": "code",
   "execution_count": 12,
   "id": "392a8de5",
   "metadata": {},
   "outputs": [
    {
     "name": "stdout",
     "output_type": "stream",
     "text": [
      "['cpr_median', 'cpr_min', 'cpr_region', 'cpr_region', 'analysis_urin_avg_max', 'analysis_urin_avg_max', 'analysis_blood_avg_max', 'analysis_blood_avg_max', 'analysis_blood_avg_max', 'analysis_blood_avg_max', 'analysis_blood_avg_max', 'analysis_blood_avg_mean', 'analysis_blood_avg_min', 'analysis_copro_avg_max', 'analysis_copro_avg_max', 'analysis_copro_avg_max', 'analysis_copro_avg_max', 'analysis_copro_avg_max', 'analysis_copro_avg_max', 'analysis_copro_avg_mean', 'analysis_copro_avg_mean', 'analysis_copro_avg_mean', 'anti_hcv_avg_max', 'doctor_visit_avg_max', 'doctor_visit_avg_max', 'doctor_visit_avg_max', 'doctor_visit_avg_max', 'doctor_visit_avg_max', 'doctor_visit_avg_max', 'doctor_visit_avg_max', 'doctor_visit_avg_max', 'doctor_visit_avg_max', 'doctor_visit_avg_mean', 'doctor_visit_avg_mean', 'doctor_visit_avg_mean', 'doctor_visit_avg_mean', 'visit_genic_avg_max', 'visit_genic_avg_max', 'visit_genic_avg_max', 'visit_genic_avg_max', 'visit_genic_avg_max', 'visit_genic_avg_max', 'visit_genic_avg_max', 'visit_genic_avg_max', 'visit_genic_avg_min', 'visit_neuro_avg_max', 'visit_neuro_avg_max', 'visit_neuro_avg_max', 'visit_neuro_avg_max', 'visit_neuro_avg_max', 'visit_neuro_avg_max', 'visit_neuro_avg_max', 'visit_neuro_avg_max', 'visit_neuro_avg_max', 'visit_neuro_avg_max', 'visit_neuro_avg_max', 'visit_neuro_avg_max', 'visit_neuro_avg_max', 'visit_neuro_avg_mean', 'visit_neuro_avg_min', 'visit_neuro_avg_min']\n"
     ]
    }
   ],
   "source": [
    "# deleting collinear columns\n",
    "data=big_corr_remove(df, 0.6)"
   ]
  },
  {
   "cell_type": "code",
   "execution_count": 13,
   "id": "1e09ab68",
   "metadata": {},
   "outputs": [
    {
     "data": {
      "text/plain": [
       "(5047, 32)"
      ]
     },
     "execution_count": 13,
     "metadata": {},
     "output_type": "execute_result"
    }
   ],
   "source": [
    "df.shape"
   ]
  },
  {
   "cell_type": "markdown",
   "id": "315a9c33",
   "metadata": {},
   "source": [
    "### Removing Outliers"
   ]
  },
  {
   "cell_type": "code",
   "execution_count": 14,
   "id": "1d8d42e4",
   "metadata": {},
   "outputs": [
    {
     "data": {
      "text/html": [
       "<div>\n",
       "<style scoped>\n",
       "    .dataframe tbody tr th:only-of-type {\n",
       "        vertical-align: middle;\n",
       "    }\n",
       "\n",
       "    .dataframe tbody tr th {\n",
       "        vertical-align: top;\n",
       "    }\n",
       "\n",
       "    .dataframe thead th {\n",
       "        text-align: right;\n",
       "    }\n",
       "</style>\n",
       "<table border=\"1\" class=\"dataframe\">\n",
       "  <thead>\n",
       "    <tr style=\"text-align: right;\">\n",
       "      <th></th>\n",
       "      <th>program_city_group</th>\n",
       "      <th>age_group</th>\n",
       "      <th>service_type_id</th>\n",
       "      <th>distance_min</th>\n",
       "      <th>cpr_max</th>\n",
       "      <th>cpr_mean</th>\n",
       "      <th>number_of_clinics_in_progam</th>\n",
       "      <th>analysis_urin_avg_mean</th>\n",
       "      <th>analysis_urin_avg_min</th>\n",
       "      <th>analysis_copro_avg_min</th>\n",
       "      <th>anti_hcv_avg_mean</th>\n",
       "      <th>anti_hcv_avg_min</th>\n",
       "      <th>doctor_visit_avg_min</th>\n",
       "      <th>visit_genic_avg_mean</th>\n",
       "      <th>target</th>\n",
       "    </tr>\n",
       "  </thead>\n",
       "  <tbody>\n",
       "    <tr>\n",
       "      <th>count</th>\n",
       "      <td>3688.000000</td>\n",
       "      <td>5047.000000</td>\n",
       "      <td>5047.000000</td>\n",
       "      <td>2.834000e+03</td>\n",
       "      <td>3827.000000</td>\n",
       "      <td>3827.000000</td>\n",
       "      <td>5047.000000</td>\n",
       "      <td>2976.000000</td>\n",
       "      <td>2976.000000</td>\n",
       "      <td>2893.000000</td>\n",
       "      <td>2842.000000</td>\n",
       "      <td>2842.000000</td>\n",
       "      <td>2964.000000</td>\n",
       "      <td>2792.000000</td>\n",
       "      <td>5028.000000</td>\n",
       "    </tr>\n",
       "    <tr>\n",
       "      <th>mean</th>\n",
       "      <td>0.893167</td>\n",
       "      <td>0.194373</td>\n",
       "      <td>0.397662</td>\n",
       "      <td>3.497242e+05</td>\n",
       "      <td>3.502608</td>\n",
       "      <td>2.412985</td>\n",
       "      <td>22.492966</td>\n",
       "      <td>2.130211</td>\n",
       "      <td>1.020575</td>\n",
       "      <td>1.449900</td>\n",
       "      <td>3.677720</td>\n",
       "      <td>2.232222</td>\n",
       "      <td>4.037130</td>\n",
       "      <td>6.612106</td>\n",
       "      <td>30.377160</td>\n",
       "    </tr>\n",
       "    <tr>\n",
       "      <th>std</th>\n",
       "      <td>0.308943</td>\n",
       "      <td>0.395756</td>\n",
       "      <td>0.489463</td>\n",
       "      <td>7.388894e+05</td>\n",
       "      <td>2.752207</td>\n",
       "      <td>1.431383</td>\n",
       "      <td>31.215219</td>\n",
       "      <td>1.016429</td>\n",
       "      <td>0.528623</td>\n",
       "      <td>0.528029</td>\n",
       "      <td>1.526510</td>\n",
       "      <td>1.786696</td>\n",
       "      <td>1.411238</td>\n",
       "      <td>3.130706</td>\n",
       "      <td>59.812469</td>\n",
       "    </tr>\n",
       "    <tr>\n",
       "      <th>min</th>\n",
       "      <td>0.000000</td>\n",
       "      <td>0.000000</td>\n",
       "      <td>0.000000</td>\n",
       "      <td>4.121000e+00</td>\n",
       "      <td>0.431700</td>\n",
       "      <td>0.431700</td>\n",
       "      <td>1.000000</td>\n",
       "      <td>0.372500</td>\n",
       "      <td>0.145000</td>\n",
       "      <td>0.160000</td>\n",
       "      <td>1.000000</td>\n",
       "      <td>0.240000</td>\n",
       "      <td>0.663335</td>\n",
       "      <td>1.161665</td>\n",
       "      <td>0.113452</td>\n",
       "    </tr>\n",
       "    <tr>\n",
       "      <th>25%</th>\n",
       "      <td>1.000000</td>\n",
       "      <td>0.000000</td>\n",
       "      <td>0.000000</td>\n",
       "      <td>8.716210e+02</td>\n",
       "      <td>1.443169</td>\n",
       "      <td>1.178488</td>\n",
       "      <td>4.000000</td>\n",
       "      <td>1.375412</td>\n",
       "      <td>0.625000</td>\n",
       "      <td>1.200000</td>\n",
       "      <td>2.619110</td>\n",
       "      <td>1.250000</td>\n",
       "      <td>3.143750</td>\n",
       "      <td>4.619000</td>\n",
       "      <td>5.463719</td>\n",
       "    </tr>\n",
       "    <tr>\n",
       "      <th>50%</th>\n",
       "      <td>1.000000</td>\n",
       "      <td>0.000000</td>\n",
       "      <td>0.000000</td>\n",
       "      <td>2.890657e+04</td>\n",
       "      <td>2.872116</td>\n",
       "      <td>2.421375</td>\n",
       "      <td>9.000000</td>\n",
       "      <td>1.783750</td>\n",
       "      <td>0.945000</td>\n",
       "      <td>1.450000</td>\n",
       "      <td>3.421650</td>\n",
       "      <td>1.445000</td>\n",
       "      <td>4.137500</td>\n",
       "      <td>6.497150</td>\n",
       "      <td>14.650473</td>\n",
       "    </tr>\n",
       "    <tr>\n",
       "      <th>75%</th>\n",
       "      <td>1.000000</td>\n",
       "      <td>0.000000</td>\n",
       "      <td>1.000000</td>\n",
       "      <td>4.158773e+05</td>\n",
       "      <td>5.324715</td>\n",
       "      <td>3.399456</td>\n",
       "      <td>28.000000</td>\n",
       "      <td>2.620000</td>\n",
       "      <td>1.200000</td>\n",
       "      <td>1.750000</td>\n",
       "      <td>4.671215</td>\n",
       "      <td>2.120000</td>\n",
       "      <td>4.535715</td>\n",
       "      <td>8.700000</td>\n",
       "      <td>32.451632</td>\n",
       "    </tr>\n",
       "    <tr>\n",
       "      <th>max</th>\n",
       "      <td>1.000000</td>\n",
       "      <td>1.000000</td>\n",
       "      <td>1.000000</td>\n",
       "      <td>6.798234e+06</td>\n",
       "      <td>18.958365</td>\n",
       "      <td>8.529115</td>\n",
       "      <td>215.000000</td>\n",
       "      <td>11.437500</td>\n",
       "      <td>4.000000</td>\n",
       "      <td>11.000000</td>\n",
       "      <td>25.750000</td>\n",
       "      <td>25.750000</td>\n",
       "      <td>29.700000</td>\n",
       "      <td>19.850000</td>\n",
       "      <td>1289.632575</td>\n",
       "    </tr>\n",
       "  </tbody>\n",
       "</table>\n",
       "</div>"
      ],
      "text/plain": [
       "       program_city_group    age_group  service_type_id  distance_min  \\\n",
       "count         3688.000000  5047.000000      5047.000000  2.834000e+03   \n",
       "mean             0.893167     0.194373         0.397662  3.497242e+05   \n",
       "std              0.308943     0.395756         0.489463  7.388894e+05   \n",
       "min              0.000000     0.000000         0.000000  4.121000e+00   \n",
       "25%              1.000000     0.000000         0.000000  8.716210e+02   \n",
       "50%              1.000000     0.000000         0.000000  2.890657e+04   \n",
       "75%              1.000000     0.000000         1.000000  4.158773e+05   \n",
       "max              1.000000     1.000000         1.000000  6.798234e+06   \n",
       "\n",
       "           cpr_max     cpr_mean  number_of_clinics_in_progam  \\\n",
       "count  3827.000000  3827.000000                  5047.000000   \n",
       "mean      3.502608     2.412985                    22.492966   \n",
       "std       2.752207     1.431383                    31.215219   \n",
       "min       0.431700     0.431700                     1.000000   \n",
       "25%       1.443169     1.178488                     4.000000   \n",
       "50%       2.872116     2.421375                     9.000000   \n",
       "75%       5.324715     3.399456                    28.000000   \n",
       "max      18.958365     8.529115                   215.000000   \n",
       "\n",
       "       analysis_urin_avg_mean  analysis_urin_avg_min  analysis_copro_avg_min  \\\n",
       "count             2976.000000            2976.000000             2893.000000   \n",
       "mean                 2.130211               1.020575                1.449900   \n",
       "std                  1.016429               0.528623                0.528029   \n",
       "min                  0.372500               0.145000                0.160000   \n",
       "25%                  1.375412               0.625000                1.200000   \n",
       "50%                  1.783750               0.945000                1.450000   \n",
       "75%                  2.620000               1.200000                1.750000   \n",
       "max                 11.437500               4.000000               11.000000   \n",
       "\n",
       "       anti_hcv_avg_mean  anti_hcv_avg_min  doctor_visit_avg_min  \\\n",
       "count        2842.000000       2842.000000           2964.000000   \n",
       "mean            3.677720          2.232222              4.037130   \n",
       "std             1.526510          1.786696              1.411238   \n",
       "min             1.000000          0.240000              0.663335   \n",
       "25%             2.619110          1.250000              3.143750   \n",
       "50%             3.421650          1.445000              4.137500   \n",
       "75%             4.671215          2.120000              4.535715   \n",
       "max            25.750000         25.750000             29.700000   \n",
       "\n",
       "       visit_genic_avg_mean       target  \n",
       "count           2792.000000  5028.000000  \n",
       "mean               6.612106    30.377160  \n",
       "std                3.130706    59.812469  \n",
       "min                1.161665     0.113452  \n",
       "25%                4.619000     5.463719  \n",
       "50%                6.497150    14.650473  \n",
       "75%                8.700000    32.451632  \n",
       "max               19.850000  1289.632575  "
      ]
     },
     "execution_count": 14,
     "metadata": {},
     "output_type": "execute_result"
    }
   ],
   "source": [
    "data.describe()"
   ]
  },
  {
   "cell_type": "code",
   "execution_count": 15,
   "id": "fc4d2393",
   "metadata": {},
   "outputs": [
    {
     "data": {
      "text/plain": [
       "(5047, 15)"
      ]
     },
     "execution_count": 15,
     "metadata": {},
     "output_type": "execute_result"
    }
   ],
   "source": [
    "data.shape"
   ]
  },
  {
   "cell_type": "code",
   "execution_count": 16,
   "id": "f0ae8c24",
   "metadata": {},
   "outputs": [
    {
     "data": {
      "text/plain": [
       "(4773, 15)"
      ]
     },
     "execution_count": 16,
     "metadata": {},
     "output_type": "execute_result"
    }
   ],
   "source": [
    "first_quartile = data['target'].describe()['25%']\n",
    "third_quartile = data['target'].describe()['75%']\n",
    "\n",
    "# Remove outliers\n",
    "data = data[(data['target'] > (first_quartile - 3 * (third_quartile - first_quartile))) & (data['target'] < (third_quartile + 3 * (third_quartile - first_quartile)))]\n",
    "data.shape"
   ]
  },
  {
   "cell_type": "code",
   "execution_count": 17,
   "id": "89056d2c",
   "metadata": {},
   "outputs": [],
   "source": [
    "data.to_csv('cleared_data.csv') "
   ]
  },
  {
   "cell_type": "code",
   "execution_count": 18,
   "id": "18678c06",
   "metadata": {},
   "outputs": [],
   "source": [
    "# Split (70% - training set, 30% - testing set)\n",
    "X, X_test, y, y_test = train_test_split(data.drop(columns='target'), pd.DataFrame(data['target']), test_size = 0.3, random_state = 42)"
   ]
  },
  {
   "cell_type": "code",
   "execution_count": 24,
   "id": "e89a4f86",
   "metadata": {},
   "outputs": [
    {
     "data": {
      "text/plain": [
       "array([[1.      , 0.      , 1.      , ...,      nan,      nan,      nan],\n",
       "       [     nan, 1.      , 1.      , ...,      nan,      nan,      nan],\n",
       "       [1.      , 0.      , 1.      , ...,      nan,      nan,      nan],\n",
       "       ...,\n",
       "       [1.      , 0.      , 0.      , ..., 5.935   , 3.464285,      nan],\n",
       "       [1.      , 0.      , 0.      , ..., 1.4     , 1.33335 , 4.375   ],\n",
       "       [1.      , 0.      , 1.      , ...,      nan,      nan,      nan]])"
      ]
     },
     "execution_count": 24,
     "metadata": {},
     "output_type": "execute_result"
    }
   ],
   "source": [
    "X.to_numpy()"
   ]
  },
  {
   "cell_type": "code",
   "execution_count": 19,
   "id": "9c5f40bd",
   "metadata": {},
   "outputs": [
    {
     "name": "stdout",
     "output_type": "stream",
     "text": [
      "The baseline guess is 13.7622\n",
      "MAE baseline performance is 14.2816\n"
     ]
    },
    {
     "name": "stderr",
     "output_type": "stream",
     "text": [
      "C:\\ProgramData\\Anaconda3\\lib\\site-packages\\numpy\\core\\fromnumeric.py:3438: FutureWarning: In a future version, DataFrame.mean(axis=None) will return a scalar mean over the entire DataFrame. To retain the old behavior, use 'frame.mean(axis=0)' or just 'frame.mean()'\n",
      "  return mean(axis=axis, dtype=dtype, out=out, **kwargs)\n"
     ]
    }
   ],
   "source": [
    "# Function to calculate mean absolute error\n",
    "def mae(y_true, y_pred):\n",
    "    return np.mean(abs(y_true - y_pred))\n",
    "\n",
    "baseline_guess = np.median(y)\n",
    "\n",
    "print('The baseline guess is %0.4f' % baseline_guess)\n",
    "print(\"MAE baseline performance is %0.4f\" % mae(y_test, baseline_guess))"
   ]
  },
  {
   "cell_type": "markdown",
   "id": "a07f6e59",
   "metadata": {},
   "source": [
    "### Imputing Missing Values"
   ]
  },
  {
   "cell_type": "code",
   "execution_count": 22,
   "id": "faa73014",
   "metadata": {},
   "outputs": [],
   "source": [
    "# Create an imputer object with a KNN strategy\n",
    "imputer = KNNImputer(n_neighbors=2, weights=\"uniform\")\n",
    "# Train and transform the data\n",
    "imputer.fit(X)\n",
    "X = imputer.transform(X)\n",
    "X_test =imputer.transform(X_test)"
   ]
  },
  {
   "cell_type": "markdown",
   "id": "18ad32e9",
   "metadata": {},
   "source": [
    "### Normalization"
   ]
  },
  {
   "cell_type": "code",
   "execution_count": 23,
   "id": "ecad643c",
   "metadata": {},
   "outputs": [],
   "source": [
    "# Create the scaler object with a range of 0-1\n",
    "scaler = MinMaxScaler(feature_range=(0, 1))\n",
    "# Train and transorm the data\n",
    "scaler.fit(X)\n",
    "X = scaler.transform(X)\n",
    "X_test = scaler.transform(X_test)"
   ]
  },
  {
   "cell_type": "code",
   "execution_count": 24,
   "id": "bb53adc8",
   "metadata": {},
   "outputs": [],
   "source": [
    "y=y['target'].tolist()\n",
    "y_test=y_test['target'].tolist()"
   ]
  },
  {
   "cell_type": "code",
   "execution_count": 26,
   "id": "26d6e6cc",
   "metadata": {},
   "outputs": [
    {
     "data": {
      "text/plain": [
       "array([[1.        , 0.        , 1.        , ..., 0.22324579, 0.11457054,\n",
       "        0.19662453],\n",
       "       [0.        , 1.        , 1.        , ..., 0.03175225, 0.08872981,\n",
       "        0.22646988],\n",
       "       [1.        , 0.        , 1.        , ..., 0.04400235, 0.05172095,\n",
       "        0.08632845],\n",
       "       ...,\n",
       "       [1.        , 0.        , 0.        , ..., 0.22324579, 0.07512114,\n",
       "        0.23949886],\n",
       "       [1.        , 0.        , 0.        , ..., 0.04547236, 0.        ,\n",
       "        0.17194335],\n",
       "       [1.        , 0.        , 1.        , ..., 0.09741278, 0.2882903 ,\n",
       "        0.56523682]])"
      ]
     },
     "execution_count": 26,
     "metadata": {},
     "output_type": "execute_result"
    }
   ],
   "source": [
    "X"
   ]
  },
  {
   "cell_type": "code",
   "execution_count": 22,
   "id": "75246362",
   "metadata": {},
   "outputs": [],
   "source": [
    "# Mean Absolute Error\n",
    "def mae(y_true, y_pred):\n",
    "    return np.mean(abs(y_true - y_pred))\n",
    "\n",
    "# Train and predict \n",
    "def fit_and_evaluate(models):\n",
    "    model_mae=[]\n",
    "    for model in models:\n",
    "        # Train the model\n",
    "        model.fit(X, y)\n",
    "\n",
    "        # Make predictions and predict\n",
    "        model_pred = model.predict(X_test)\n",
    "        model_mae.append(mae(y_test, model_pred))\n",
    "\n",
    "    # Performance metrics\n",
    "    return model_mae"
   ]
  },
  {
   "cell_type": "code",
   "execution_count": 23,
   "id": "aea5b3ef",
   "metadata": {},
   "outputs": [],
   "source": [
    "lr = LinearRegression()\n",
    "svm = SVR(C = 100, gamma = 0.1)\n",
    "random_forest = RandomForestRegressor(random_state=60)\n",
    "gradient_boosted = GradientBoostingRegressor(random_state=60)\n",
    "lr_mae, svm_mae, random_forest_mae, gradient_boosted_mae = fit_and_evaluate([lr, svm, random_forest, gradient_boosted])"
   ]
  },
  {
   "cell_type": "code",
   "execution_count": 24,
   "id": "7f593e98",
   "metadata": {},
   "outputs": [
    {
     "name": "stdout",
     "output_type": "stream",
     "text": [
      "Performances on the test set (MAE):\n",
      "Linear Regression  14.1699 \n",
      "Support Vector Machine Regression  12.8293 \n",
      "Random Forest Regression  14.2415  \n",
      "Gradient Boosted Regression  13.5205\n"
     ]
    }
   ],
   "source": [
    "print(f'''Performances on the test set (MAE):\n",
    "Linear Regression  {round(lr_mae, 4)} \n",
    "Support Vector Machine Regression  {round(svm_mae, 4)} \n",
    "Random Forest Regression  {round(random_forest_mae, 4)}  \n",
    "Gradient Boosted Regression  {round(gradient_boosted_mae, 4)}''')"
   ]
  },
  {
   "cell_type": "code",
   "execution_count": 25,
   "id": "59dcfd74",
   "metadata": {},
   "outputs": [
    {
     "data": {
      "image/png": "[encoded data removed]",
      "text/plain": [
       "<Figure size 1008x432 with 1 Axes>"
      ]
     },
     "metadata": {
      "needs_background": "light"
     },
     "output_type": "display_data"
    }
   ],
   "source": [
    "fig, ax = plt.subplots()\n",
    "y=[lr_mae, svm_mae, random_forest_mae, gradient_boosted_mae]\n",
    "x=['Linear \\nRegression', 'Support \\nVector \\nMachine \\nRegression', 'Random \\nForest \\nRegression', 'Gradient \\nBoosted \\nRegression']\n",
    "ax.bar(x, y)\n",
    "ax.set_facecolor('red')\n",
    "fig.set_figwidth(14)\n",
    "fig.set_figheight(6)\n",
    "plt.title('Model Comparison on Test MAE', size = 20);\n",
    "plt.show()"
   ]
  },
  {
   "cell_type": "markdown",
   "id": "875a3c19",
   "metadata": {},
   "source": [
    "### To describe the model, we use Lime (Local Interpretable Model-Agnostic Explanations). "
   ]
  },
  {
   "cell_type": "code",
   "execution_count": 26,
   "id": "6e53244e",
   "metadata": {},
   "outputs": [],
   "source": [
    "model_pred = svm.predict(X_test)\n",
    "\n",
    "# Find the residuals\n",
    "residuals = abs(model_pred - y_test)\n",
    "    \n",
    "# Exact the worst and best prediction\n",
    "wrong = X_test[np.argmax(residuals), :]\n",
    "right = X_test[np.argmin(residuals), :]"
   ]
  },
  {
   "cell_type": "code",
   "execution_count": 27,
   "id": "a43e771c",
   "metadata": {},
   "outputs": [],
   "source": [
    "# Create a lime explainer object\n",
    "explainer = lime.lime_tabular.LimeTabularExplainer(training_data = X, \n",
    "                                                   mode = 'regression',\n",
    "                                                   training_labels = y,\n",
    "                                                   feature_names = data.columns.tolist())"
   ]
  },
  {
   "cell_type": "code",
   "execution_count": 28,
   "id": "80edb061",
   "metadata": {},
   "outputs": [
    {
     "name": "stdout",
     "output_type": "stream",
     "text": [
      "Prediction: 8.7918\n",
      "Actual Value: 99.5146\n"
     ]
    },
    {
     "data": {
      "image/png": "[encoded data removed]",
      "text/plain": [
       "<Figure size 432x288 with 1 Axes>"
      ]
     },
     "metadata": {
      "needs_background": "light"
     },
     "output_type": "display_data"
    }
   ],
   "source": [
    "# Display the predicted and true value for the wrong instance\n",
    "print('Prediction: %0.4f' % svm.predict(wrong.reshape(1, -1)))\n",
    "print('Actual Value: %0.4f' % y_test[np.argmax(residuals)])\n",
    "\n",
    "# Explanation for wrong prediction\n",
    "wrong_exp = explainer.explain_instance(data_row = wrong, predict_fn = svm.predict)\n",
    "\n",
    "# Plot the prediction explaination\n",
    "wrong_exp.as_pyplot_figure();\n",
    "plt.title('Explanation of Prediction');\n",
    "plt.xlabel('Effect on Prediction');"
   ]
  },
  {
   "cell_type": "code",
   "execution_count": 29,
   "id": "78efc87b",
   "metadata": {},
   "outputs": [
    {
     "name": "stdout",
     "output_type": "stream",
     "text": [
      "Prediction: 13.4001\n",
      "Actual Value: 13.3973\n"
     ]
    },
    {
     "data": {
      "image/png": "[encoded data removed]",
      "text/plain": [
       "<Figure size 432x288 with 1 Axes>"
      ]
     },
     "metadata": {
      "needs_background": "light"
     },
     "output_type": "display_data"
    }
   ],
   "source": [
    "# Display the predicted and true value for the right instance\n",
    "print('Prediction: %0.4f' % svm.predict(right.reshape(1, -1)))\n",
    "print('Actual Value: %0.4f' % y_test[np.argmin(residuals)])\n",
    "\n",
    "# Explanation for wrong prediction\n",
    "right_exp = explainer.explain_instance(right, svm.predict, num_features=10)\n",
    "right_exp.as_pyplot_figure();\n",
    "plt.title('Explanation of Prediction');\n",
    "plt.xlabel('Effect on Prediction');"
   ]
  },
  {
   "cell_type": "markdown",
   "id": "5952aa89",
   "metadata": {},
   "source": [
    "The plot from LIME is showing the contribution to the final prediction from each of the features."
   ]
  },
  {
   "cell_type": "code",
   "execution_count": null,
   "id": "f175f0fe",
   "metadata": {},
   "outputs": [],
   "source": []
  }
 ],
 "metadata": {
  "kernelspec": {
   "display_name": "Python 3 (ipykernel)",
   "language": "python",
   "name": "python3"
  },
  "language_info": {
   "codemirror_mode": {
    "name": "ipython",
    "version": 3
   },
   "file_extension": ".py",
   "mimetype": "text/x-python",
   "name": "python",
   "nbconvert_exporter": "python",
   "pygments_lexer": "ipython3",
   "version": "3.9.12"
  }
 },
 "nbformat": 4,
 "nbformat_minor": 5
}
