{
 "cells": [
  {
   "cell_type": "code",
   "execution_count": 1,
   "id": "160df7fe",
   "metadata": {},
   "outputs": [],
   "source": [
    "import pandas as pd \n",
    "import numpy as np\n",
    "import lime \n",
    "import lime.lime_tabular\n",
    "\n",
    "from scipy import stats # библиотека статистических методов\n",
    "from statsmodels.stats import diagnostic\n",
    "from sklearn.model_selection import train_test_split\n",
    "from sklearn.impute import KNNImputer\n",
    "from sklearn.preprocessing import MinMaxScaler\n",
    "#from sklearn.linear_model import LinearRegression\n",
    "#from sklearn.ensemble import RandomForestRegressor, GradientBoostingRegressor\n",
    "from sklearn.svm import SVR\n",
    "\n",
    "import matplotlib.pyplot as plt\n",
    "%matplotlib inline"
   ]
  },
  {
   "cell_type": "code",
   "execution_count": 2,
   "id": "9a7e2e45",
   "metadata": {},
   "outputs": [],
   "source": [
    "df=pd.read_csv('cleared_data.csv')"
   ]
  },
  {
   "cell_type": "code",
   "execution_count": 3,
   "id": "7384f5f3",
   "metadata": {},
   "outputs": [
    {
     "name": "stdout",
     "output_type": "stream",
     "text": [
      "<class 'pandas.core.frame.DataFrame'>\n",
      "RangeIndex: 4773 entries, 0 to 4772\n",
      "Data columns (total 16 columns):\n",
      " #   Column                       Non-Null Count  Dtype  \n",
      "---  ------                       --------------  -----  \n",
      " 0   Unnamed: 0                   4773 non-null   int64  \n",
      " 1   program_city_group           3597 non-null   float64\n",
      " 2   age_group                    4773 non-null   int64  \n",
      " 3   service_type_id              4773 non-null   int64  \n",
      " 4   distance_min                 2682 non-null   float64\n",
      " 5   cpr_max                      3568 non-null   float64\n",
      " 6   cpr_mean                     3568 non-null   float64\n",
      " 7   number_of_clinics_in_progam  4773 non-null   int64  \n",
      " 8   analysis_urin_avg_mean       2738 non-null   float64\n",
      " 9   analysis_urin_avg_min        2738 non-null   float64\n",
      " 10  analysis_copro_avg_min       2655 non-null   float64\n",
      " 11  anti_hcv_avg_mean            2604 non-null   float64\n",
      " 12  anti_hcv_avg_min             2604 non-null   float64\n",
      " 13  doctor_visit_avg_min         2726 non-null   float64\n",
      " 14  visit_genic_avg_mean         2556 non-null   float64\n",
      " 15  target                       4773 non-null   float64\n",
      "dtypes: float64(12), int64(4)\n",
      "memory usage: 596.8 KB\n"
     ]
    }
   ],
   "source": [
    "df.info()"
   ]
  },
  {
   "cell_type": "markdown",
   "id": "b0d391e0",
   "metadata": {},
   "source": [
    "Произведём разделение по возрастным группам"
   ]
  },
  {
   "cell_type": "code",
   "execution_count": 4,
   "id": "586df8d2",
   "metadata": {},
   "outputs": [
    {
     "data": {
      "text/html": [
       "<div>\n",
       "<style scoped>\n",
       "    .dataframe tbody tr th:only-of-type {\n",
       "        vertical-align: middle;\n",
       "    }\n",
       "\n",
       "    .dataframe tbody tr th {\n",
       "        vertical-align: top;\n",
       "    }\n",
       "\n",
       "    .dataframe thead th {\n",
       "        text-align: right;\n",
       "    }\n",
       "</style>\n",
       "<table border=\"1\" class=\"dataframe\">\n",
       "  <thead>\n",
       "    <tr style=\"text-align: right;\">\n",
       "      <th></th>\n",
       "      <th>Age 1</th>\n",
       "      <th>Age 2</th>\n",
       "    </tr>\n",
       "  </thead>\n",
       "  <tbody>\n",
       "    <tr>\n",
       "      <th>count</th>\n",
       "      <td>3885.000000</td>\n",
       "      <td>888.000000</td>\n",
       "    </tr>\n",
       "    <tr>\n",
       "      <th>mean</th>\n",
       "      <td>20.233831</td>\n",
       "      <td>21.746013</td>\n",
       "    </tr>\n",
       "    <tr>\n",
       "      <th>std</th>\n",
       "      <td>20.862454</td>\n",
       "      <td>22.441655</td>\n",
       "    </tr>\n",
       "    <tr>\n",
       "      <th>min</th>\n",
       "      <td>0.113452</td>\n",
       "      <td>0.123416</td>\n",
       "    </tr>\n",
       "    <tr>\n",
       "      <th>25%</th>\n",
       "      <td>5.116960</td>\n",
       "      <td>5.473721</td>\n",
       "    </tr>\n",
       "    <tr>\n",
       "      <th>50%</th>\n",
       "      <td>13.519729</td>\n",
       "      <td>13.822131</td>\n",
       "    </tr>\n",
       "    <tr>\n",
       "      <th>75%</th>\n",
       "      <td>27.476425</td>\n",
       "      <td>29.241775</td>\n",
       "    </tr>\n",
       "    <tr>\n",
       "      <th>max</th>\n",
       "      <td>112.442635</td>\n",
       "      <td>111.517882</td>\n",
       "    </tr>\n",
       "  </tbody>\n",
       "</table>\n",
       "</div>"
      ],
      "text/plain": [
       "             Age 1       Age 2\n",
       "count  3885.000000  888.000000\n",
       "mean     20.233831   21.746013\n",
       "std      20.862454   22.441655\n",
       "min       0.113452    0.123416\n",
       "25%       5.116960    5.473721\n",
       "50%      13.519729   13.822131\n",
       "75%      27.476425   29.241775\n",
       "max     112.442635  111.517882"
      ]
     },
     "execution_count": 4,
     "metadata": {},
     "output_type": "execute_result"
    }
   ],
   "source": [
    "age_group1=df[df['age_group']==0]\n",
    "age_group2=df[df['age_group']==1]\n",
    "pd.concat([age_group1.target.describe().rename('Age 1'),\n",
    "           age_group2.target.describe().rename('Age 2')],axis=1)"
   ]
  },
  {
   "cell_type": "markdown",
   "id": "68aad445",
   "metadata": {},
   "source": [
    "The second age group mean is slightly higher ."
   ]
  },
  {
   "cell_type": "code",
   "execution_count": 5,
   "id": "c3a19744",
   "metadata": {},
   "outputs": [
    {
     "data": {
      "text/plain": [
       "Ttest_indResult(statistic=-1.834896688364854, pvalue=0.0667564825195631)"
      ]
     },
     "execution_count": 5,
     "metadata": {},
     "output_type": "execute_result"
    }
   ],
   "source": [
    "# Welch's test\n",
    "stats.ttest_ind(age_group1.target, age_group2.target, equal_var=False)"
   ]
  },
  {
   "cell_type": "markdown",
   "id": "ecb582c4",
   "metadata": {},
   "source": [
    "Достоверно нельзя сказать, что различие средних значений не случайно."
   ]
  },
  {
   "cell_type": "code",
   "execution_count": 12,
   "id": "f9d087b3",
   "metadata": {},
   "outputs": [
    {
     "data": {
      "text/html": [
       "<div>\n",
       "<style scoped>\n",
       "    .dataframe tbody tr th:only-of-type {\n",
       "        vertical-align: middle;\n",
       "    }\n",
       "\n",
       "    .dataframe tbody tr th {\n",
       "        vertical-align: top;\n",
       "    }\n",
       "\n",
       "    .dataframe thead th {\n",
       "        text-align: right;\n",
       "    }\n",
       "</style>\n",
       "<table border=\"1\" class=\"dataframe\">\n",
       "  <thead>\n",
       "    <tr style=\"text-align: right;\">\n",
       "      <th></th>\n",
       "      <th>Service type id 1</th>\n",
       "      <th>Service type id 2</th>\n",
       "    </tr>\n",
       "  </thead>\n",
       "  <tbody>\n",
       "    <tr>\n",
       "      <th>count</th>\n",
       "      <td>2802.000000</td>\n",
       "      <td>1971.000000</td>\n",
       "    </tr>\n",
       "    <tr>\n",
       "      <th>mean</th>\n",
       "      <td>23.032718</td>\n",
       "      <td>16.936184</td>\n",
       "    </tr>\n",
       "    <tr>\n",
       "      <th>std</th>\n",
       "      <td>23.417821</td>\n",
       "      <td>16.856999</td>\n",
       "    </tr>\n",
       "    <tr>\n",
       "      <th>min</th>\n",
       "      <td>0.123416</td>\n",
       "      <td>0.113452</td>\n",
       "    </tr>\n",
       "    <tr>\n",
       "      <th>25%</th>\n",
       "      <td>5.259236</td>\n",
       "      <td>5.134283</td>\n",
       "    </tr>\n",
       "    <tr>\n",
       "      <th>50%</th>\n",
       "      <td>14.797439</td>\n",
       "      <td>12.351496</td>\n",
       "    </tr>\n",
       "    <tr>\n",
       "      <th>75%</th>\n",
       "      <td>33.265536</td>\n",
       "      <td>22.582651</td>\n",
       "    </tr>\n",
       "    <tr>\n",
       "      <th>max</th>\n",
       "      <td>112.442635</td>\n",
       "      <td>99.514563</td>\n",
       "    </tr>\n",
       "  </tbody>\n",
       "</table>\n",
       "</div>"
      ],
      "text/plain": [
       "       Service type id 1  Service type id 2\n",
       "count        2802.000000        1971.000000\n",
       "mean           23.032718          16.936184\n",
       "std            23.417821          16.856999\n",
       "min             0.123416           0.113452\n",
       "25%             5.259236           5.134283\n",
       "50%            14.797439          12.351496\n",
       "75%            33.265536          22.582651\n",
       "max           112.442635          99.514563"
      ]
     },
     "execution_count": 12,
     "metadata": {},
     "output_type": "execute_result"
    }
   ],
   "source": [
    "service_group1=df[df['service_type_id']==0]\n",
    "service_group2=df[df['service_type_id']==1]\n",
    "pd.concat([service_group1.target.describe().rename('Service type id 1'),\n",
    "           service_group2.target.describe().rename('Service type id 2')],axis=1)"
   ]
  },
  {
   "cell_type": "code",
   "execution_count": 7,
   "id": "25865cf8",
   "metadata": {},
   "outputs": [
    {
     "data": {
      "text/plain": [
       "Ttest_indResult(statistic=10.457238637973528, pvalue=2.5458937763197536e-25)"
      ]
     },
     "execution_count": 7,
     "metadata": {},
     "output_type": "execute_result"
    }
   ],
   "source": [
    "# Welch's test\n",
    "stats.ttest_ind(service_group1.target, service_group2.target, equal_var=False)"
   ]
  },
  {
   "cell_type": "markdown",
   "id": "57ed0121",
   "metadata": {},
   "source": [
    "Очевидно, что различие средних значений не случайно."
   ]
  },
  {
   "cell_type": "code",
   "execution_count": 8,
   "id": "0cefd3e2",
   "metadata": {},
   "outputs": [],
   "source": [
    "def selections(service_group):\n",
    "    # Split (70% - training set, 30% - testing set)\n",
    "    X, X_test, y, y_test = train_test_split(service_group.drop(columns='target'), service_group['target'], test_size = 0.3, random_state = 34)\n",
    "    # Create an imputer object with a KNN strategy\n",
    "    imputer = KNNImputer(n_neighbors=2, weights=\"uniform\")\n",
    "    # Train and transform the data\n",
    "    imputer.fit(X)\n",
    "    X = imputer.transform(X)\n",
    "    X_test =imputer.transform(X_test)\n",
    "    # Create the scaler object with a range of 0-1\n",
    "    scaler = MinMaxScaler(feature_range=(0, 1))\n",
    "    # Train and transorm the data\n",
    "    scaler.fit(X)\n",
    "    X = scaler.transform(X)\n",
    "    X_test = scaler.transform(X_test)\n",
    "    \n",
    "    # Mean Absolute Error\n",
    "    def mae(y_true, y_pred):\n",
    "        return np.mean(abs(y_true - y_pred))\n",
    "\n",
    "    svm = SVR(C = 100, gamma = 0.1)\n",
    "    # Train the model\n",
    "    svm.fit(X, y)\n",
    "    # Make predictions and predict\n",
    "    svm_pred = svm.predict(X_test)\n",
    "    svm_mae=mae(y_test, svm_pred)\n",
    "    return svm_mae"
   ]
  },
  {
   "cell_type": "code",
   "execution_count": 9,
   "id": "9aade1d3",
   "metadata": {},
   "outputs": [
    {
     "data": {
      "text/plain": [
       "(15.374343327073694, 10.224875817315755, 13.71358849749915)"
      ]
     },
     "execution_count": 9,
     "metadata": {},
     "output_type": "execute_result"
    }
   ],
   "source": [
    "mae=(selections(service_group1), selections(service_group2), selections(df))\n",
    "mae"
   ]
  },
  {
   "cell_type": "code",
   "execution_count": 10,
   "id": "34737ef7",
   "metadata": {},
   "outputs": [
    {
     "data": {
      "text/plain": [
       "(2802, 1971, 4773)"
      ]
     },
     "execution_count": 10,
     "metadata": {},
     "output_type": "execute_result"
    }
   ],
   "source": [
    "numshape=(service_group1.shape[0], service_group2.shape[0], df.shape[0])\n",
    "numshape"
   ]
  },
  {
   "cell_type": "code",
   "execution_count": 11,
   "id": "76017aa0",
   "metadata": {},
   "outputs": [
    {
     "data": {
      "text/plain": [
       "0.46570661222996124"
      ]
     },
     "execution_count": 11,
     "metadata": {},
     "output_type": "execute_result"
    }
   ],
   "source": [
    "(numshape[2]*mae[2]-numshape[1]*mae[1]-numshape[0]*mae[0])/numshape[2]"
   ]
  },
  {
   "cell_type": "markdown",
   "id": "f9d94a4f",
   "metadata": {},
   "source": [
    "Разделение данных на выборки по service_group не привело к значительному изменению ошибки. Что немного парадоксально."
   ]
  }
 ],
 "metadata": {
  "kernelspec": {
   "display_name": "Python 3 (ipykernel)",
   "language": "python",
   "name": "python3"
  },
  "language_info": {
   "codemirror_mode": {
    "name": "ipython",
    "version": 3
   },
   "file_extension": ".py",
   "mimetype": "text/x-python",
   "name": "python",
   "nbconvert_exporter": "python",
   "pygments_lexer": "ipython3",
   "version": "3.9.7"
  }
 },
 "nbformat": 4,
 "nbformat_minor": 5
}
