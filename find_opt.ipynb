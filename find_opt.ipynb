{
 "cells": [
  {
   "cell_type": "code",
   "execution_count": 1,
   "id": "54269d89",
   "metadata": {},
   "outputs": [],
   "source": [
    "from scipy.optimize import linprog, minimize\n",
    "import numpy as np"
   ]
  },
  {
   "cell_type": "code",
   "execution_count": 2,
   "id": "06d6e542",
   "metadata": {},
   "outputs": [],
   "source": [
    "begin=8600\n",
    "end=12398\n",
    "Y=[8600, 9000, 9500, 10250, 11000, 11600]\n",
    "Y_len=8\n",
    "Y_count=6\n",
    "y_dif=0\n",
    "Z=[8714, 8874, 9054, 9294, 9674, 9994, 10424, 10824, 11134, 11454, 11694, 12014]\n",
    "Z_len=40\n",
    "Z_count=12\n",
    "z_dif=6\n",
    "A=28.5\n",
    "b_limits=[10, 10, 10, 10, 10]"
   ]
  },
  {
   "cell_type": "code",
   "execution_count": 3,
   "id": "c4ad0d92",
   "metadata": {},
   "outputs": [
    {
     "data": {
      "text/plain": [
       "[8600,\n",
       " 8714,\n",
       " 8874,\n",
       " 9000,\n",
       " 9054,\n",
       " 9294,\n",
       " 9500,\n",
       " 9674,\n",
       " 9994,\n",
       " 10250,\n",
       " 10424,\n",
       " 10824,\n",
       " 11000,\n",
       " 11134,\n",
       " 11454,\n",
       " 11600,\n",
       " 11694,\n",
       " 12014]"
      ]
     },
     "execution_count": 3,
     "metadata": {},
     "output_type": "execute_result"
    }
   ],
   "source": [
    "YZ=sorted(Y+Z)\n",
    "YZ"
   ]
  },
  {
   "cell_type": "code",
   "execution_count": 4,
   "id": "7a9d07d1",
   "metadata": {},
   "outputs": [
    {
     "data": {
      "text/plain": [
       "[['y', 'b', 'x'],\n",
       " ['z', 'x'],\n",
       " ['z', 'x', 'b'],\n",
       " ['y', 'b', 'x'],\n",
       " ['z', 'x'],\n",
       " ['z', 'x', 'b'],\n",
       " ['y', 'b', 'x'],\n",
       " ['z', 'x'],\n",
       " ['z', 'x', 'b'],\n",
       " ['y', 'b', 'x'],\n",
       " ['z', 'x'],\n",
       " ['z', 'x', 'b'],\n",
       " ['y', 'b', 'x'],\n",
       " ['z', 'x'],\n",
       " ['z', 'x', 'b'],\n",
       " ['y', 'b', 'x'],\n",
       " ['z', 'x'],\n",
       " ['z']]"
      ]
     },
     "execution_count": 4,
     "metadata": {},
     "output_type": "execute_result"
    }
   ],
   "source": [
    "y_flag=None\n",
    "z_flag=None\n",
    "list2=[]\n",
    "list_dif=[]\n",
    "for i in YZ:\n",
    "    list1=[]\n",
    "    if i in Y:\n",
    "        if z_flag:\n",
    "            list2[-1].append('x')\n",
    "            list2[-1].append('b')\n",
    "        list1.append('y')\n",
    "        list1.append('b')\n",
    "        list_dif.append(y_dif)\n",
    "        y_flag=True\n",
    "        z_flag=False\n",
    "    else:\n",
    "        list2[-1].append('x')\n",
    "        list1.append('z')\n",
    "        z_flag=True\n",
    "        y_flag=False\n",
    "        list_dif.append(z_dif)\n",
    "    list2.append(list1)\n",
    "# list2.append([x]'A')\n",
    "# list2.append('Свободный конец')\n",
    "list2        "
   ]
  },
  {
   "cell_type": "code",
   "execution_count": 5,
   "id": "058682bb",
   "metadata": {},
   "outputs": [
    {
     "data": {
      "text/plain": [
       "[0, 6, 6, 0, 6, 6, 0, 6, 6, 0, 6, 6, 0, 6, 6, 0, 6, 6]"
      ]
     },
     "execution_count": 5,
     "metadata": {},
     "output_type": "execute_result"
    }
   ],
   "source": [
    "list_dif"
   ]
  },
  {
   "cell_type": "code",
   "execution_count": 6,
   "id": "7ccb658e",
   "metadata": {},
   "outputs": [
    {
     "data": {
      "text/plain": [
       "17"
      ]
     },
     "execution_count": 6,
     "metadata": {},
     "output_type": "execute_result"
    }
   ],
   "source": [
    "list_len=[]\n",
    "for num,i in enumerate(YZ[:-1]):\n",
    "    list_len.append(YZ[num+1]-i)\n",
    "len(list_len)"
   ]
  },
  {
   "cell_type": "code",
   "execution_count": 7,
   "id": "2ee86bb1",
   "metadata": {},
   "outputs": [],
   "source": [
    "# list_len=[i+j for i, j in zip(list_len, list_dif)]\n",
    "# len(list_len)"
   ]
  },
  {
   "cell_type": "code",
   "execution_count": 8,
   "id": "fb8baece",
   "metadata": {},
   "outputs": [
    {
     "data": {
      "text/plain": [
       "[0, 6, 6, 0, 6, 6, 0, 6, 6, 0, 6, 6, 0, 6, 6, 0, 6, 6]"
      ]
     },
     "execution_count": 8,
     "metadata": {},
     "output_type": "execute_result"
    }
   ],
   "source": [
    "list_dif"
   ]
  },
  {
   "cell_type": "code",
   "execution_count": 9,
   "id": "bf01a9c0",
   "metadata": {},
   "outputs": [
    {
     "data": {
      "text/plain": [
       "2"
      ]
     },
     "execution_count": 9,
     "metadata": {},
     "output_type": "execute_result"
    }
   ],
   "source": [
    "len([[0 for i in list_dif if i!=0]]*2)"
   ]
  },
  {
   "cell_type": "code",
   "execution_count": 10,
   "id": "867f38ea",
   "metadata": {},
   "outputs": [
    {
     "data": {
      "text/plain": [
       "[0, 8, 13, 21, 26, 34, 39, 47, 52, 60, 65]"
      ]
     },
     "execution_count": 10,
     "metadata": {},
     "output_type": "execute_result"
    }
   ],
   "source": [
    "b_eq_dis=[]\n",
    "A_eq_dis=[]\n",
    "symbols=[]\n",
    "pos_b2=[]\n",
    "costs=[]\n",
    "for i,j in zip(list_len, list2):\n",
    "    if 'y' in j:\n",
    "        b_eq_dis.append(i-8)\n",
    "    else:\n",
    "        b_eq_dis.append(i-40)\n",
    "    A_eq_dis_=[]\n",
    "    symbol=[]\n",
    "    for i in j:\n",
    "        if i=='b':\n",
    "            A_eq_dis_+=[2, 4, 6, 8, 10]\n",
    "            pos_b2.append(len(symbols))\n",
    "            symbols+=['b2', 'b4', 'b6', 'b8', 'b10']\n",
    "            costs+=[1, 1, 1, 1, 1]\n",
    "        if i=='x':\n",
    "            A_eq_dis_.append(40)\n",
    "            costs.append(0)\n",
    "            symbols.append('x')\n",
    "    A_eq_dis.append(A_eq_dis_)\n",
    "pos_b2   "
   ]
  },
  {
   "cell_type": "code",
   "execution_count": 11,
   "id": "9e4d90e8",
   "metadata": {},
   "outputs": [],
   "source": [
    "kef_count=0\n",
    "for i in A_eq_dis:\n",
    "    kef_count+=len(i)\n",
    "shirina=kef_count\n",
    "dlina=len(A_eq_dis)"
   ]
  },
  {
   "cell_type": "code",
   "execution_count": 12,
   "id": "acecaff7",
   "metadata": {},
   "outputs": [
    {
     "data": {
      "text/plain": [
       "(17, 72)"
      ]
     },
     "execution_count": 12,
     "metadata": {},
     "output_type": "execute_result"
    }
   ],
   "source": [
    "A_eq=[[0]*shirina for i in range(dlina)]\n",
    "karetka=0\n",
    "for num, i in enumerate(A_eq_dis):\n",
    "    A_eq[num][karetka:karetka+len(i)]=i\n",
    "    karetka+=len(i)\n",
    "np.array(A_eq).shape"
   ]
  },
  {
   "cell_type": "code",
   "execution_count": 13,
   "id": "62554848",
   "metadata": {},
   "outputs": [
    {
     "data": {
      "text/plain": [
       "(5, 72)"
      ]
     },
     "execution_count": 13,
     "metadata": {},
     "output_type": "execute_result"
    }
   ],
   "source": [
    "A_ub=[[0]*shirina for i in range(len(b_limits))]\n",
    "for num, i in enumerate(pos_b2):\n",
    "    A_ub[0][i]=1\n",
    "    A_ub[1][i+1]=1\n",
    "    A_ub[2][i+2]=1\n",
    "    A_ub[3][i+3]=1\n",
    "    A_ub[4][i+4]=1\n",
    "np.array(A_ub).shape"
   ]
  },
  {
   "cell_type": "code",
   "execution_count": 14,
   "id": "3c345b6d",
   "metadata": {},
   "outputs": [
    {
     "data": {
      "text/plain": [
       "(17, 72)"
      ]
     },
     "execution_count": 14,
     "metadata": {},
     "output_type": "execute_result"
    }
   ],
   "source": [
    "np.array(A_eq).shape"
   ]
  },
  {
   "cell_type": "code",
   "execution_count": 15,
   "id": "5a2084ac",
   "metadata": {},
   "outputs": [
    {
     "data": {
      "text/plain": [
       "        message: Optimization terminated successfully. (HiGHS Status 7: Optimal)\n",
       "        success: True\n",
       "         status: 0\n",
       "            fun: 17.0\n",
       "              x: [ 0.000e+00  0.000e+00 ...  2.000e+00  7.000e+00]\n",
       "            nit: -1\n",
       "          lower:  residual: [ 0.000e+00  0.000e+00 ...  2.000e+00\n",
       "                              7.000e+00]\n",
       "                 marginals: [ 0.000e+00  0.000e+00 ...  0.000e+00\n",
       "                              0.000e+00]\n",
       "          upper:  residual: [ 3.000e+01  3.000e+01 ...  2.800e+01\n",
       "                              2.300e+01]\n",
       "                 marginals: [ 0.000e+00  0.000e+00 ...  0.000e+00\n",
       "                              0.000e+00]\n",
       "          eqlin:  residual: [ 0.000e+00  0.000e+00 ...  0.000e+00\n",
       "                              0.000e+00]\n",
       "                 marginals: [ 0.000e+00  0.000e+00 ...  0.000e+00\n",
       "                              0.000e+00]\n",
       "        ineqlin:  residual: []\n",
       "                 marginals: []\n",
       " mip_node_count: 1\n",
       " mip_dual_bound: 17.0\n",
       "        mip_gap: 0.0"
      ]
     },
     "execution_count": 15,
     "metadata": {},
     "output_type": "execute_result"
    }
   ],
   "source": [
    "A_eq=A_eq\n",
    "costs=costs\n",
    "bnd=[(0, 30) for i in range(shirina)]\n",
    "b_eq=b_eq_dis\n",
    "A_ub=A_ub\n",
    "b_ub=b_limits\n",
    "opt = linprog(c=costs, \n",
    "        A_eq=A_eq,\n",
    "        b_eq=b_eq,\n",
    "#         A_ub=A_ub,\n",
    "#         b_ub=b_ub,\n",
    "        bounds=bnd,\n",
    "        method=\"highs\",\n",
    "        integrality=1\n",
    "             )\n",
    "opt"
   ]
  },
  {
   "cell_type": "code",
   "execution_count": 16,
   "id": "45aeae9a",
   "metadata": {},
   "outputs": [
    {
     "data": {
      "text/plain": [
       "array([0., 0., 1., 0., 2., 2., 3., 2., 0., 0., 1., 0., 0., 0., 0., 1., 0.,\n",
       "       0., 1., 5., 4., 0., 0., 1., 0., 0., 0., 0., 1., 0., 0., 4., 7., 5.,\n",
       "       0., 0., 1., 0., 1., 0., 0., 1., 0., 0., 4., 9., 3., 0., 0., 0., 2.,\n",
       "       0., 0., 0., 1., 0., 0., 3., 7., 2., 0., 0., 1., 0., 2., 0., 0., 1.,\n",
       "       0., 0., 2., 7.])"
      ]
     },
     "execution_count": 16,
     "metadata": {},
     "output_type": "execute_result"
    }
   ],
   "source": [
    "opt.x"
   ]
  },
  {
   "cell_type": "code",
   "execution_count": 17,
   "id": "75f74bde",
   "metadata": {},
   "outputs": [
    {
     "data": {
      "text/plain": [
       "['b2',\n",
       " 'b4',\n",
       " 'b6',\n",
       " 'b8',\n",
       " 'b10',\n",
       " 'x',\n",
       " 'x',\n",
       " 'x',\n",
       " 'b2',\n",
       " 'b4',\n",
       " 'b6',\n",
       " 'b8',\n",
       " 'b10',\n",
       " 'b2',\n",
       " 'b4',\n",
       " 'b6',\n",
       " 'b8',\n",
       " 'b10',\n",
       " 'x',\n",
       " 'x',\n",
       " 'x',\n",
       " 'b2',\n",
       " 'b4',\n",
       " 'b6',\n",
       " 'b8',\n",
       " 'b10',\n",
       " 'b2',\n",
       " 'b4',\n",
       " 'b6',\n",
       " 'b8',\n",
       " 'b10',\n",
       " 'x',\n",
       " 'x',\n",
       " 'x',\n",
       " 'b2',\n",
       " 'b4',\n",
       " 'b6',\n",
       " 'b8',\n",
       " 'b10',\n",
       " 'b2',\n",
       " 'b4',\n",
       " 'b6',\n",
       " 'b8',\n",
       " 'b10',\n",
       " 'x',\n",
       " 'x',\n",
       " 'x',\n",
       " 'b2',\n",
       " 'b4',\n",
       " 'b6',\n",
       " 'b8',\n",
       " 'b10',\n",
       " 'b2',\n",
       " 'b4',\n",
       " 'b6',\n",
       " 'b8',\n",
       " 'b10',\n",
       " 'x',\n",
       " 'x',\n",
       " 'x',\n",
       " 'b2',\n",
       " 'b4',\n",
       " 'b6',\n",
       " 'b8',\n",
       " 'b10',\n",
       " 'b2',\n",
       " 'b4',\n",
       " 'b6',\n",
       " 'b8',\n",
       " 'b10',\n",
       " 'x',\n",
       " 'x']"
      ]
     },
     "execution_count": 17,
     "metadata": {},
     "output_type": "execute_result"
    }
   ],
   "source": [
    "symbols"
   ]
  },
  {
   "cell_type": "code",
   "execution_count": 18,
   "id": "f87f21d5",
   "metadata": {},
   "outputs": [
    {
     "data": {
      "text/plain": [
       "[106,\n",
       " 120,\n",
       " 86,\n",
       " 46,\n",
       " 200,\n",
       " 166,\n",
       " 166,\n",
       " 280,\n",
       " 216,\n",
       " 166,\n",
       " 360,\n",
       " 136,\n",
       " 126,\n",
       " 280,\n",
       " 106,\n",
       " 86,\n",
       " 280]"
      ]
     },
     "execution_count": 18,
     "metadata": {},
     "output_type": "execute_result"
    }
   ],
   "source": [
    "b_eq"
   ]
  },
  {
   "cell_type": "code",
   "execution_count": 19,
   "id": "47403654",
   "metadata": {},
   "outputs": [
    {
     "data": {
      "text/plain": [
       "array([[ 2,  4,  6, ...,  0,  0,  0],\n",
       "       [ 0,  0,  0, ...,  0,  0,  0],\n",
       "       [ 0,  0,  0, ...,  0,  0,  0],\n",
       "       ...,\n",
       "       [ 0,  0,  0, ...,  0,  0,  0],\n",
       "       [ 0,  0,  0, ..., 10, 40,  0],\n",
       "       [ 0,  0,  0, ...,  0,  0, 40]])"
      ]
     },
     "execution_count": 19,
     "metadata": {},
     "output_type": "execute_result"
    }
   ],
   "source": [
    "np.array(A_eq)"
   ]
  },
  {
   "cell_type": "code",
   "execution_count": 20,
   "id": "7a9050e3",
   "metadata": {},
   "outputs": [
    {
     "data": {
      "text/plain": [
       "15.5"
      ]
     },
     "execution_count": 20,
     "metadata": {},
     "output_type": "execute_result"
    }
   ],
   "source": [
    "(end-Z[-1]-A-100)%40"
   ]
  },
  {
   "cell_type": "code",
   "execution_count": null,
   "id": "20422414",
   "metadata": {},
   "outputs": [],
   "source": []
  },
  {
   "cell_type": "code",
   "execution_count": 21,
   "id": "6270de8a",
   "metadata": {},
   "outputs": [
    {
     "data": {
      "text/plain": [
       "215.5"
      ]
     },
     "execution_count": 21,
     "metadata": {},
     "output_type": "execute_result"
    }
   ],
   "source": [
    "ost=end-Z[-1]-A-100-Z_len\n",
    "ost"
   ]
  },
  {
   "cell_type": "code",
   "execution_count": 22,
   "id": "5b96f248",
   "metadata": {},
   "outputs": [
    {
     "data": {
      "text/plain": [
       "5.0"
      ]
     },
     "execution_count": 22,
     "metadata": {},
     "output_type": "execute_result"
    }
   ],
   "source": [
    "ost//40"
   ]
  },
  {
   "cell_type": "code",
   "execution_count": 23,
   "id": "95565465",
   "metadata": {},
   "outputs": [
    {
     "data": {
      "text/plain": [
       "15.5"
      ]
     },
     "execution_count": 23,
     "metadata": {},
     "output_type": "execute_result"
    }
   ],
   "source": [
    "ost%40"
   ]
  },
  {
   "cell_type": "code",
   "execution_count": null,
   "id": "b3174ce5",
   "metadata": {},
   "outputs": [],
   "source": []
  }
 ],
 "metadata": {
  "kernelspec": {
   "display_name": "Python 3 (ipykernel)",
   "language": "python",
   "name": "python3"
  },
  "language_info": {
   "codemirror_mode": {
    "name": "ipython",
    "version": 3
   },
   "file_extension": ".py",
   "mimetype": "text/x-python",
   "name": "python",
   "nbconvert_exporter": "python",
   "pygments_lexer": "ipython3",
   "version": "3.10.9"
  }
 },
 "nbformat": 4,
 "nbformat_minor": 5
}
