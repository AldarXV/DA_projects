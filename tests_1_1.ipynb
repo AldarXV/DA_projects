{
 "cells": [
  {
   "cell_type": "markdown",
   "id": "e513c347",
   "metadata": {},
   "source": [
    "1) test1.find_opt() - Обычный поиск\n",
    "2) test1.find_opt_change() - Поиск с изменением границ компонентов и соотношений.\n",
    "3) test1.find_opt_change_comp_bond() - Поиск с изменением границ компонетов\n",
    "4) test1.find_opt_change_ratio() - Поиск с изменением соотношений\n",
    "5) test1.find_opt_change_one() - Поиск с изменением границ компонентов и соотношений. Перебираются последовательно. Даётся несколько выриантов"
   ]
  },
  {
   "cell_type": "code",
   "execution_count": 1,
   "id": "57109406",
   "metadata": {},
   "outputs": [],
   "source": [
    "import pandas as pd\n",
    "from scipy.optimize import linprog\n",
    "import numpy as np"
   ]
  },
  {
   "cell_type": "code",
   "execution_count": 2,
   "id": "c5df3e30",
   "metadata": {},
   "outputs": [
    {
     "data": {
      "text/html": [
       "<div>\n",
       "<style scoped>\n",
       "    .dataframe tbody tr th:only-of-type {\n",
       "        vertical-align: middle;\n",
       "    }\n",
       "\n",
       "    .dataframe tbody tr th {\n",
       "        vertical-align: top;\n",
       "    }\n",
       "\n",
       "    .dataframe thead th {\n",
       "        text-align: right;\n",
       "    }\n",
       "</style>\n",
       "<table border=\"1\" class=\"dataframe\">\n",
       "  <thead>\n",
       "    <tr style=\"text-align: right;\">\n",
       "      <th></th>\n",
       "      <th>Unnamed: 0</th>\n",
       "      <th>Имя</th>\n",
       "      <th>Цена</th>\n",
       "      <th>Сухое</th>\n",
       "      <th>Натура</th>\n",
       "      <th>Сырой</th>\n",
       "      <th>Крахмал</th>\n",
       "      <th>NDF</th>\n",
       "      <th>ADF</th>\n",
       "      <th>Ca</th>\n",
       "      <th>Phos</th>\n",
       "    </tr>\n",
       "  </thead>\n",
       "  <tbody>\n",
       "    <tr>\n",
       "      <th>0</th>\n",
       "      <td>Имся</td>\n",
       "      <td>единица</td>\n",
       "      <td>руб</td>\n",
       "      <td>кг</td>\n",
       "      <td>кг</td>\n",
       "      <td>кг</td>\n",
       "      <td>кг</td>\n",
       "      <td>кг</td>\n",
       "      <td>кг</td>\n",
       "      <td>кг</td>\n",
       "      <td>кг</td>\n",
       "    </tr>\n",
       "    <tr>\n",
       "      <th>1</th>\n",
       "      <td>Ячмень зерно</td>\n",
       "      <td>кг</td>\n",
       "      <td>10.000</td>\n",
       "      <td>0.900</td>\n",
       "      <td>1.111</td>\n",
       "      <td>0.150</td>\n",
       "      <td>0.500</td>\n",
       "      <td>0.200</td>\n",
       "      <td>0.100</td>\n",
       "      <td>0.002</td>\n",
       "      <td>0.003</td>\n",
       "    </tr>\n",
       "    <tr>\n",
       "      <th>2</th>\n",
       "      <td>Кукуруза зерно</td>\n",
       "      <td>кг</td>\n",
       "      <td>15.000</td>\n",
       "      <td>0.800</td>\n",
       "      <td>1.250</td>\n",
       "      <td>0.100</td>\n",
       "      <td>0.600</td>\n",
       "      <td>0.250</td>\n",
       "      <td>0.150</td>\n",
       "      <td>0.003</td>\n",
       "      <td>0.004</td>\n",
       "    </tr>\n",
       "    <tr>\n",
       "      <th>3</th>\n",
       "      <td>Силос</td>\n",
       "      <td>кг</td>\n",
       "      <td>5.000</td>\n",
       "      <td>0.400</td>\n",
       "      <td>2.500</td>\n",
       "      <td>0.050</td>\n",
       "      <td>0.300</td>\n",
       "      <td>0.400</td>\n",
       "      <td>0.200</td>\n",
       "      <td>0.004</td>\n",
       "      <td>0.005</td>\n",
       "    </tr>\n",
       "    <tr>\n",
       "      <th>4</th>\n",
       "      <td>Соя шрот</td>\n",
       "      <td>кг</td>\n",
       "      <td>20.000</td>\n",
       "      <td>0.900</td>\n",
       "      <td>1.111</td>\n",
       "      <td>0.400</td>\n",
       "      <td>0.200</td>\n",
       "      <td>0.300</td>\n",
       "      <td>0.250</td>\n",
       "      <td>0.005</td>\n",
       "      <td>0.006</td>\n",
       "    </tr>\n",
       "  </tbody>\n",
       "</table>\n",
       "</div>"
      ],
      "text/plain": [
       "       Unnamed: 0      Имя    Цена  Сухое Натура  Сырой Крахмал    NDF    ADF  \\\n",
       "0            Имся  единица     руб     кг     кг     кг      кг     кг     кг   \n",
       "1    Ячмень зерно       кг  10.000  0.900  1.111  0.150   0.500  0.200  0.100   \n",
       "2  Кукуруза зерно       кг  15.000  0.800  1.250  0.100   0.600  0.250  0.150   \n",
       "3           Силос       кг   5.000  0.400  2.500  0.050   0.300  0.400  0.200   \n",
       "4        Соя шрот       кг  20.000  0.900  1.111  0.400   0.200  0.300  0.250   \n",
       "\n",
       "      Ca   Phos  \n",
       "0     кг     кг  \n",
       "1  0.002  0.003  \n",
       "2  0.003  0.004  \n",
       "3  0.004  0.005  \n",
       "4  0.005  0.006  "
      ]
     },
     "execution_count": 2,
     "metadata": {},
     "output_type": "execute_result"
    }
   ],
   "source": [
    "df=pd.read_excel('data1.xlsx')\n",
    "df"
   ]
  },
  {
   "cell_type": "code",
   "execution_count": 3,
   "id": "876c5245",
   "metadata": {},
   "outputs": [],
   "source": [
    "class method1():   \n",
    "    def __init__(self, products, bnd, comps, comps_bnd, matrix, costs, sootnosheniya=None):\n",
    "        self.products=products\n",
    "        self.bnd=bnd\n",
    "        self.comps=comps\n",
    "        self.comps_bnd=comps_bnd\n",
    "        self.ratio=sootnosheniya\n",
    "        self.main_mat=matrix[products, :][:, comps]\n",
    "        cond_l=[]\n",
    "        cond_r=[]\n",
    "        if comps_bnd:\n",
    "            for num, i in enumerate(comps_bnd):\n",
    "                if i[0]:\n",
    "                    cond_l.append(-self.main_mat[:, num])\n",
    "                    cond_r.append(-i[0])\n",
    "                if i[1]:\n",
    "                    cond_l.append(self.main_mat[:, num])\n",
    "                    cond_r.append(i[1])\n",
    "        self.cond_l=np.array(cond_l)\n",
    "        self.cond_r=np.array(cond_r)\n",
    "        self.costs=costs\n",
    "        self.result=None\n",
    "        self.KOEF=1.03\n",
    "\n",
    "    def get_ratio(products, comps, sootnosheniya, main_mat):\n",
    "        for_ratio=np.zeros([len(sootnosheniya), len(products)])\n",
    "        for num, i in enumerate(sootnosheniya):\n",
    "            chisl=0\n",
    "            znam=0\n",
    "            idx1=0\n",
    "            idx2=0\n",
    "            for num1, j in enumerate(i):\n",
    "                if j!=0:\n",
    "                    if j!=1 and j!=-1:\n",
    "                        chisl=j\n",
    "                        idx1=num1\n",
    "                    else:\n",
    "                        znam=j\n",
    "                        idx2=num1\n",
    "            for_ratio[num]=main_mat[:, idx2]*chisl-main_mat[:, idx1]*znam\n",
    "        return for_ratio\n",
    "        \n",
    "    def find_opt(self, ratio=None, cond_r=None, mode=1):\n",
    "        if ratio is None and not self.ratio is None:\n",
    "            ratio=self.ratio\n",
    "        if cond_r is None and len(self.cond_r)!=0:\n",
    "            cond_r=self.cond_r   \n",
    "        \n",
    "        if not self.ratio is None and mode==1:\n",
    "            if len(self.cond_l)>0:\n",
    "                ratio_stats=method1.get_ratio(products, comps, ratio, self.main_mat)\n",
    "                A_ub=np.concatenate([self.cond_l, ratio_stats], axis=0)\n",
    "                b_ub=np.concatenate([cond_r, np.zeros(len(ratio_stats))], axis=0)\n",
    "            else:\n",
    "                A_ub=ratio_stats\n",
    "                b_ub=self.np.zeros(len(ratio_stats))\n",
    "        else:\n",
    "            A_ub=self.cond_l\n",
    "            b_ub=cond_r\n",
    "            \n",
    "        opt = linprog(c=self.costs, \n",
    "        A_ub=A_ub,\n",
    "        b_ub=b_ub,\n",
    "        bounds=self.bnd,\n",
    "        method=\"highs\")\n",
    "        if opt.success:\n",
    "            result=np.around(np.matmul(opt.x, self.main_mat),3)\n",
    "            x=np.around(opt.x, 3)\n",
    "            fun=round(opt.fun, 3)           \n",
    "        else:\n",
    "            result=None\n",
    "            x=None\n",
    "            fun=None\n",
    "        if not ratio is None:\n",
    "            ratio=np.around(ratio, 3)       \n",
    "        return {'success':opt.success, 'x': x, 'fun':fun, 'comps': result,\n",
    "               'ratio': ratio, 'comps_bnd': np.around(cond_r, 3)}\n",
    "        \n",
    "    def change_bnd(self, cond_r):\n",
    "        cond_r=np.where(cond_r[:]>0, cond_r[:]*self.KOEF, cond_r[:]/self.KOEF)\n",
    "        return cond_r \n",
    "        \n",
    "    def find_opt_change_comp_bond(self):\n",
    "        counter=1\n",
    "        cond_r=self.cond_r\n",
    "        while not self.find_opt(cond_r=cond_r)['success']:\n",
    "            cond_r=self.change_bnd(cond_r)\n",
    "            #print('№', counter, cond_r)\n",
    "            counter+=1\n",
    "        return self.find_opt(cond_r=cond_r)\n",
    "     \n",
    "    def change_ratio(self, ratio):       \n",
    "        ratio=np.where((ratio[:]>0) & (ratio[:]!=1), ratio[:]/self.KOEF, ratio[:])\n",
    "        ratio=np.where(ratio[:]<0, ratio[:]*self.KOEF, ratio[:])\n",
    "        return ratio\n",
    "    \n",
    "    def find_opt_change_ratio(self):\n",
    "        counter=1\n",
    "        ratio=np.array(self.ratio)\n",
    "        while not self.find_opt(ratio=ratio)['success']:\n",
    "            ratio=self.change_ratio(ratio)\n",
    "            #print('№', counter, ratio)\n",
    "            counter+=1\n",
    "        return self.find_opt(ratio=ratio)\n",
    "    \n",
    "    def find_opt_change(self):        \n",
    "        if self.find_opt(mode=2):#Если без ограничений имеется решение\n",
    "            counter=1\n",
    "            ratio=np.array(self.ratio)\n",
    "            cond_r=self.cond_r\n",
    "            while not self.find_opt(ratio=ratio, cond_r=cond_r)['success']:#В цикле сдвигаем границы\n",
    "                ratio=self.change_ratio(ratio)\n",
    "                cond_r=self.change_bnd(cond_r)\n",
    "                #print('№', counter)\n",
    "                #print(ratio, cond_r)\n",
    "                counter+=1\n",
    "            return self.find_opt(ratio=ratio, cond_r=cond_r)\n",
    "        return  {'success':False}\n",
    "    \n",
    "    def find_opt_change_one(self):\n",
    "        \n",
    "        for i in range(len(self.ratio)):\n",
    "            ratio=np.array(self.ratio)\n",
    "            cond_r=self.cond_r\n",
    "            dis_ratio=np.concatenate([ratio[:i,:], ratio[i+1:,:]], axis=0)\n",
    "            res=self.find_opt(ratio=dis_ratio, cond_r=cond_r)\n",
    "            if res['success']:\n",
    "                print(f'Изменение соотношения {i+1}')\n",
    "                while not self.find_opt(ratio=ratio, cond_r=cond_r)['success']:#В цикле сдвигаем границы\n",
    "                    ratio[i]=np.where((ratio[i,:]>0) & (ratio[i,:]!=1), ratio[i,:]/self.KOEF, ratio[i,:])\n",
    "                    ratio[i]=np.where(ratio[i,:]<0, ratio[i,:]*self.KOEF, ratio[i,:])\n",
    "                print(self.find_opt(ratio=ratio, cond_r=cond_r))\n",
    "        for i in range(len(self.cond_r)):\n",
    "            ratio=np.array(self.ratio)\n",
    "            cond_r=self.cond_r.copy()\n",
    "            cond_r_max=cond_r.copy()\n",
    "            cond_r_max[i]=np.where(cond_r[i]>0, cond_r[i]*100, 0)\n",
    "            res=self.find_opt(ratio=ratio, cond_r=cond_r_max)\n",
    "            if res['success']:\n",
    "                print(f'Изменение границ {i+1}')\n",
    "                while not self.find_opt(ratio=ratio, cond_r=cond_r)['success']:#В цикле сдвигаем границы\n",
    "                    cond_r[i]=np.where(cond_r[i]>0, cond_r[i]*self.KOEF, cond_r[i]/self.KOEF)\n",
    "                print(self.find_opt(ratio=ratio, cond_r=cond_r))\n",
    "        #return self.find_opt(ratio=ratio, cond_r=cond_r)"
   ]
  },
  {
   "cell_type": "code",
   "execution_count": 4,
   "id": "bbb90fc7",
   "metadata": {},
   "outputs": [
    {
     "data": {
      "text/plain": [
       "array([[1.000e+01, 9.000e-01, 1.111e+00, 1.500e-01, 5.000e-01, 2.000e-01,\n",
       "        1.000e-01, 2.000e-03, 3.000e-03],\n",
       "       [1.500e+01, 8.000e-01, 1.250e+00, 1.000e-01, 6.000e-01, 2.500e-01,\n",
       "        1.500e-01, 3.000e-03, 4.000e-03],\n",
       "       [5.000e+00, 4.000e-01, 2.500e+00, 5.000e-02, 3.000e-01, 4.000e-01,\n",
       "        2.000e-01, 4.000e-03, 5.000e-03],\n",
       "       [2.000e+01, 9.000e-01, 1.111e+00, 4.000e-01, 2.000e-01, 3.000e-01,\n",
       "        2.500e-01, 5.000e-03, 6.000e-03]])"
      ]
     },
     "execution_count": 4,
     "metadata": {},
     "output_type": "execute_result"
    }
   ],
   "source": [
    "datas=df.drop([0], axis=0).drop(['Unnamed: 0', 'Имя'], axis=1).astype(float).to_numpy()\n",
    "datas"
   ]
  },
  {
   "cell_type": "code",
   "execution_count": 5,
   "id": "bbf9a77d",
   "metadata": {},
   "outputs": [
    {
     "data": {
      "text/plain": [
       "array([10., 15.,  5., 20.])"
      ]
     },
     "execution_count": 5,
     "metadata": {},
     "output_type": "execute_result"
    }
   ],
   "source": [
    "costs=datas[:, 0]\n",
    "costs"
   ]
  },
  {
   "cell_type": "code",
   "execution_count": 6,
   "id": "e49f54ba",
   "metadata": {},
   "outputs": [
    {
     "data": {
      "text/plain": [
       "array([[1.111],\n",
       "       [1.25 ],\n",
       "       [2.5  ],\n",
       "       [1.111]])"
      ]
     },
     "execution_count": 6,
     "metadata": {},
     "output_type": "execute_result"
    }
   ],
   "source": [
    "voda=datas[:, 2:3]\n",
    "voda"
   ]
  },
  {
   "cell_type": "code",
   "execution_count": 7,
   "id": "994d2733",
   "metadata": {},
   "outputs": [
    {
     "data": {
      "text/plain": [
       "array([[1.111e+00, 1.500e-01, 5.000e-01, 2.000e-01, 1.000e-01, 2.000e-03,\n",
       "        3.000e-03],\n",
       "       [1.250e+00, 1.000e-01, 6.000e-01, 2.500e-01, 1.500e-01, 3.000e-03,\n",
       "        4.000e-03],\n",
       "       [2.500e+00, 5.000e-02, 3.000e-01, 4.000e-01, 2.000e-01, 4.000e-03,\n",
       "        5.000e-03],\n",
       "       [1.111e+00, 4.000e-01, 2.000e-01, 3.000e-01, 2.500e-01, 5.000e-03,\n",
       "        6.000e-03]])"
      ]
     },
     "execution_count": 7,
     "metadata": {},
     "output_type": "execute_result"
    }
   ],
   "source": [
    "componets_for_div=datas[:, 2:]\n",
    "componets_for_div"
   ]
  },
  {
   "cell_type": "code",
   "execution_count": 8,
   "id": "cf2b0e9b",
   "metadata": {},
   "outputs": [
    {
     "data": {
      "text/plain": [
       "array([[1.        , 0.1350135 , 0.450045  , 0.180018  , 0.090009  ,\n",
       "        0.00180018, 0.00270027],\n",
       "       [1.        , 0.08      , 0.48      , 0.2       , 0.12      ,\n",
       "        0.0024    , 0.0032    ],\n",
       "       [1.        , 0.02      , 0.12      , 0.16      , 0.08      ,\n",
       "        0.0016    , 0.002     ],\n",
       "       [1.        , 0.360036  , 0.180018  , 0.270027  , 0.2250225 ,\n",
       "        0.00450045, 0.00540054]])"
      ]
     },
     "execution_count": 8,
     "metadata": {},
     "output_type": "execute_result"
    }
   ],
   "source": [
    "divided=componets_for_div/voda\n",
    "divided"
   ]
  },
  {
   "cell_type": "code",
   "execution_count": 9,
   "id": "88f780ed",
   "metadata": {},
   "outputs": [
    {
     "data": {
      "text/plain": [
       "array([[1.        , 0.1350135 , 0.450045  , 0.180018  , 0.090009  ,\n",
       "        0.00180018, 0.00270027],\n",
       "       [1.        , 0.08      , 0.48      , 0.2       , 0.12      ,\n",
       "        0.0024    , 0.0032    ],\n",
       "       [1.        , 0.02      , 0.12      , 0.16      , 0.08      ,\n",
       "        0.0016    , 0.002     ],\n",
       "       [1.        , 0.360036  , 0.180018  , 0.270027  , 0.2250225 ,\n",
       "        0.00450045, 0.00540054]])"
      ]
     },
     "execution_count": 9,
     "metadata": {},
     "output_type": "execute_result"
    }
   ],
   "source": [
    "divided=np.transpose(np.transpose(divided))\n",
    "divided"
   ]
  },
  {
   "cell_type": "code",
   "execution_count": 10,
   "id": "aa990b6b",
   "metadata": {},
   "outputs": [
    {
     "data": {
      "text/plain": [
       "array([[0.9       , 1.        , 0.1350135 , 0.450045  , 0.180018  ,\n",
       "        0.090009  , 0.00180018, 0.00270027],\n",
       "       [0.8       , 1.        , 0.08      , 0.48      , 0.2       ,\n",
       "        0.12      , 0.0024    , 0.0032    ],\n",
       "       [0.4       , 1.        , 0.02      , 0.12      , 0.16      ,\n",
       "        0.08      , 0.0016    , 0.002     ],\n",
       "       [0.9       , 1.        , 0.360036  , 0.180018  , 0.270027  ,\n",
       "        0.2250225 , 0.00450045, 0.00540054]])"
      ]
     },
     "execution_count": 10,
     "metadata": {},
     "output_type": "execute_result"
    }
   ],
   "source": [
    "matrix=np.concatenate([datas[:,1].reshape((4, 1)), divided], axis=1)\n",
    "matrix"
   ]
  },
  {
   "cell_type": "markdown",
   "id": "30067185",
   "metadata": {},
   "source": [
    "Первый индекс описывает продукт\n",
    "1\tЯчмень зерно\t\n",
    "2\tКукуруза зерно\t\n",
    "3\tСилос\t\n",
    "4\tСоя шрот\n",
    "Второй индекс описывает компонент (кроме натурального, ушёл как коэф.)\n",
    "1 Сухое\n",
    "2 Натур\n",
    "3 Сырой\n",
    "4 Крахмал\n",
    "5 NDF\n",
    "6 ADF\n",
    "7 Ca\n",
    "8 Phos"
   ]
  },
  {
   "cell_type": "markdown",
   "id": "e899a665",
   "metadata": {},
   "source": [
    "## Пример1"
   ]
  },
  {
   "cell_type": "code",
   "execution_count": 11,
   "id": "e19c1da4",
   "metadata": {},
   "outputs": [],
   "source": [
    "products=[0, 1, 2]#Номера продуктов\n",
    "bnd=[[0, 5], [0, 10], [0, float('inf')]]#Ограничения на продукты\n",
    "comps=[0, 1, 2, 3]#Номера компонентов\n",
    "comps_bnd=[[10, None],[20, None],[1.5, None], [6, None]]#Ограничения на компоненты\n",
    "sootnosheniya=[[0.6, 1, 0, 0], [1, 0, 0.12, 0]]#соотношения компонентов\n",
    "#комп1/комп2>=0.6 комп3/комп1>=0.12"
   ]
  },
  {
   "cell_type": "code",
   "execution_count": 12,
   "id": "97996669",
   "metadata": {},
   "outputs": [],
   "source": [
    "test1=method1(products,\n",
    "             bnd,\n",
    "             comps,\n",
    "             comps_bnd,\n",
    "             matrix,\n",
    "             costs[products],\n",
    "             sootnosheniya)"
   ]
  },
  {
   "cell_type": "markdown",
   "id": "c10e0766",
   "metadata": {},
   "source": [
    "Если условие >=, то данные идут с плюсом.\n",
    "Если <=, то надо умножить c -1."
   ]
  },
  {
   "cell_type": "code",
   "execution_count": 13,
   "id": "61524cfa",
   "metadata": {},
   "outputs": [
    {
     "data": {
      "text/plain": [
       "{'success': False,\n",
       " 'x': None,\n",
       " 'fun': None,\n",
       " 'comps': None,\n",
       " 'ratio': array([[0.6 , 1.  , 0.  , 0.  ],\n",
       "        [1.  , 0.  , 0.12, 0.  ]]),\n",
       " 'comps_bnd': array([-10. , -20. ,  -1.5,  -6. ])}"
      ]
     },
     "execution_count": 13,
     "metadata": {},
     "output_type": "execute_result"
    }
   ],
   "source": [
    "opt=test1.find_opt()\n",
    "opt"
   ]
  },
  {
   "cell_type": "code",
   "execution_count": 14,
   "id": "5d0238ee",
   "metadata": {},
   "outputs": [
    {
     "data": {
      "text/plain": [
       "{'success': True,\n",
       " 'x': array([5.   , 8.549, 4.754]),\n",
       " 'fun': 202.0,\n",
       " 'comps': array([13.241, 18.303,  1.454,  6.924]),\n",
       " 'ratio': array([[0.549, 1.   , 0.   , 0.   ],\n",
       "        [1.   , 0.   , 0.11 , 0.   ]]),\n",
       " 'comps_bnd': array([ -9.151, -18.303,  -1.373,  -5.491])}"
      ]
     },
     "execution_count": 14,
     "metadata": {},
     "output_type": "execute_result"
    }
   ],
   "source": [
    "opt=test1.find_opt_change()\n",
    "opt"
   ]
  },
  {
   "cell_type": "code",
   "execution_count": 15,
   "id": "d77910b6",
   "metadata": {},
   "outputs": [
    {
     "name": "stdout",
     "output_type": "stream",
     "text": [
      "Изменение соотношения 2\n",
      "{'success': True, 'x': array([5.   , 8.749, 6.251]), 'fun': 212.489, 'comps': array([14. , 20. ,  1.5,  7.2]), 'ratio': array([[0.6  , 1.   , 0.   , 0.   ],\n",
      "       [1.   , 0.   , 0.107, 0.   ]]), 'comps_bnd': array([-10. , -20. ,  -1.5,  -6. ])}\n"
     ]
    }
   ],
   "source": [
    "test1.find_opt_change_one()"
   ]
  },
  {
   "cell_type": "code",
   "execution_count": 16,
   "id": "2c61866a",
   "metadata": {},
   "outputs": [
    {
     "data": {
      "text/plain": [
       "{'success': True,\n",
       " 'x': array([5.   , 8.749, 6.251]),\n",
       " 'fun': 212.489,\n",
       " 'comps': array([14. , 20. ,  1.5,  7.2]),\n",
       " 'ratio': array([[0.533, 1.   , 0.   , 0.   ],\n",
       "        [1.   , 0.   , 0.107, 0.   ]]),\n",
       " 'comps_bnd': array([-10. , -20. ,  -1.5,  -6. ])}"
      ]
     },
     "execution_count": 16,
     "metadata": {},
     "output_type": "execute_result"
    }
   ],
   "source": [
    "opt=test1.find_opt_change_ratio()\n",
    "opt"
   ]
  },
  {
   "cell_type": "code",
   "execution_count": 17,
   "id": "4477523e",
   "metadata": {},
   "outputs": [
    {
     "data": {
      "text/plain": [
       "{'success': True,\n",
       " 'x': array([5.   , 7.93 , 0.292]),\n",
       " 'fun': 170.411,\n",
       " 'comps': array([10.961, 13.222,  1.315,  6.092]),\n",
       " 'ratio': array([[0.6 , 1.  , 0.  , 0.  ],\n",
       "        [1.  , 0.  , 0.12, 0.  ]]),\n",
       " 'comps_bnd': array([ -6.611, -13.222,  -0.992,  -3.967])}"
      ]
     },
     "execution_count": 17,
     "metadata": {},
     "output_type": "execute_result"
    }
   ],
   "source": [
    "opt=test1.find_opt_change_comp_bond()\n",
    "opt"
   ]
  },
  {
   "cell_type": "markdown",
   "id": "41624bf0",
   "metadata": {},
   "source": [
    "## Пример 2"
   ]
  },
  {
   "cell_type": "code",
   "execution_count": 18,
   "id": "e5e4f7df",
   "metadata": {},
   "outputs": [],
   "source": [
    "products=[0, 1, 2]#Номера продуктов\n",
    "bnd=[[0, 5], [0, 10], [0, float('inf')]]#Ограничения на продукты\n",
    "comps=[0, 1, 2, 3]#Номера компонентов\n",
    "comps_bnd=[[10, None],[None, None],[2, None], [None, None]]#Ограничения на компоненты\n",
    "sootnosheniya=[[0.6, 1, 0, 0]]#соотношения компонентов\n",
    "#комп1/комп2>=0.6 комп3/комп1>=0.12\n",
    "test2=method1(products,\n",
    "             bnd,\n",
    "             comps,\n",
    "             comps_bnd,\n",
    "             matrix,\n",
    "             costs[products],\n",
    "             sootnosheniya)"
   ]
  },
  {
   "cell_type": "code",
   "execution_count": 19,
   "id": "ca086e83",
   "metadata": {},
   "outputs": [
    {
     "data": {
      "text/plain": [
       "{'success': False,\n",
       " 'x': None,\n",
       " 'fun': None,\n",
       " 'comps': None,\n",
       " 'ratio': array([[0.6, 1. , 0. , 0. ]]),\n",
       " 'comps_bnd': array([-10,  -2])}"
      ]
     },
     "execution_count": 19,
     "metadata": {},
     "output_type": "execute_result"
    }
   ],
   "source": [
    "opt=test2.find_opt()\n",
    "opt"
   ]
  },
  {
   "cell_type": "code",
   "execution_count": 20,
   "id": "239830f4",
   "metadata": {},
   "outputs": [
    {
     "data": {
      "text/plain": [
       "{'success': True,\n",
       " 'x': array([ 5.   , 10.   , 20.506]),\n",
       " 'fun': 302.531,\n",
       " 'comps': array([20.702, 35.506,  1.885,  9.511]),\n",
       " 'ratio': array([[0.566, 1.   , 0.   , 0.   ]]),\n",
       " 'comps_bnd': array([-9.426, -1.885])}"
      ]
     },
     "execution_count": 20,
     "metadata": {},
     "output_type": "execute_result"
    }
   ],
   "source": [
    "opt=test2.find_opt_change()\n",
    "opt"
   ]
  },
  {
   "cell_type": "code",
   "execution_count": 21,
   "id": "a70114f6",
   "metadata": {},
   "outputs": [
    {
     "name": "stdout",
     "output_type": "stream",
     "text": [
      "Изменение соотношения 1\n",
      "{'success': True, 'x': array([ 5.   , 10.   , 26.247]), 'fun': 331.233, 'comps': array([22.999, 41.247,  2.   , 10.2  ]), 'ratio': array([[0.549, 1.   , 0.   , 0.   ]]), 'comps_bnd': array([-10,  -2])}\n",
      "Изменение границ 2\n",
      "{'success': True, 'x': array([5.   , 2.083, 9.583]), 'fun': 129.167, 'comps': array([10.   , 16.667,  1.033,  4.4  ]), 'ratio': array([[0.6, 1. , 0. , 0. ]]), 'comps_bnd': array([-10,  -1])}\n"
     ]
    }
   ],
   "source": [
    "opt=test2.find_opt_change_one()\n",
    "opt"
   ]
  },
  {
   "cell_type": "markdown",
   "id": "39ff8094",
   "metadata": {},
   "source": [
    "## Пример 3"
   ]
  },
  {
   "cell_type": "code",
   "execution_count": 22,
   "id": "a1bf95a5",
   "metadata": {},
   "outputs": [],
   "source": [
    "products=[0, 1, 2]#Номера продуктов\n",
    "bnd=[[5, 5], [8.75, 8.75], [1.25, 1.25]]#Ограничения на продукты\n",
    "comps=[0, 1, 2, 3]#Номера компонентов\n",
    "comps_bnd=[[10, None],[15, None],[1.3, None], [None, None]]#Ограничения на компоненты\n",
    "sootnosheniya=[[0.8, 1, 0, 0],  [0.2, 0, 0.0, 1]]#соотношения компонентов\n",
    "#комп1/комп2>=0.6 комп3/комп1>=0.12"
   ]
  },
  {
   "cell_type": "code",
   "execution_count": 23,
   "id": "16b78680",
   "metadata": {},
   "outputs": [
    {
     "data": {
      "text/plain": [
       "{'success': True,\n",
       " 'x': array([5.  , 8.75, 1.25]),\n",
       " 'fun': 187.5,\n",
       " 'comps': array([12. , 15. ,  1.4,  6.6]),\n",
       " 'ratio': array([[0.8, 1. , 0. , 0. ],\n",
       "        [0.2, 0. , 0. , 1. ]]),\n",
       " 'comps_bnd': array([-10. , -15. ,  -1.3])}"
      ]
     },
     "execution_count": 23,
     "metadata": {},
     "output_type": "execute_result"
    }
   ],
   "source": [
    "test3=method1(products,\n",
    "             bnd,\n",
    "             comps,\n",
    "             comps_bnd,\n",
    "             matrix,\n",
    "             costs[products],\n",
    "             sootnosheniya)\n",
    "opt=test3.find_opt()\n",
    "opt"
   ]
  }
 ],
 "metadata": {
  "kernelspec": {
   "display_name": "Python 3 (ipykernel)",
   "language": "python",
   "name": "python3"
  },
  "language_info": {
   "codemirror_mode": {
    "name": "ipython",
    "version": 3
   },
   "file_extension": ".py",
   "mimetype": "text/x-python",
   "name": "python",
   "nbconvert_exporter": "python",
   "pygments_lexer": "ipython3",
   "version": "3.10.9"
  }
 },
 "nbformat": 4,
 "nbformat_minor": 5
}
