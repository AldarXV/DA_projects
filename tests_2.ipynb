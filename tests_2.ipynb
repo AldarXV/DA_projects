{
 "cells": [
  {
   "cell_type": "markdown",
   "id": "59e09ccb",
   "metadata": {},
   "source": [
    "1) test1.find_opt() - Обычный поиск\n",
    "2) test1.find_opt_change_one() - Поиск с изменением границ компонентов и соотношений. Перебираются последовательно условия. Даётся 2 лучших варианта: по соотношениям, по границе компонентов. "
   ]
  },
  {
   "cell_type": "code",
   "execution_count": 1,
   "id": "57109406",
   "metadata": {},
   "outputs": [],
   "source": [
    "import pandas as pd\n",
    "from scipy.optimize import linprog, minimize\n",
    "import numpy as np"
   ]
  },
  {
   "cell_type": "code",
   "execution_count": 2,
   "id": "c5df3e30",
   "metadata": {},
   "outputs": [
    {
     "data": {
      "text/html": [
       "<div>\n",
       "<style scoped>\n",
       "    .dataframe tbody tr th:only-of-type {\n",
       "        vertical-align: middle;\n",
       "    }\n",
       "\n",
       "    .dataframe tbody tr th {\n",
       "        vertical-align: top;\n",
       "    }\n",
       "\n",
       "    .dataframe thead th {\n",
       "        text-align: right;\n",
       "    }\n",
       "</style>\n",
       "<table border=\"1\" class=\"dataframe\">\n",
       "  <thead>\n",
       "    <tr style=\"text-align: right;\">\n",
       "      <th></th>\n",
       "      <th>Unnamed: 0</th>\n",
       "      <th>Имя</th>\n",
       "      <th>Цена</th>\n",
       "      <th>Сухое</th>\n",
       "      <th>Натура</th>\n",
       "      <th>Сырой</th>\n",
       "      <th>Крахмал</th>\n",
       "      <th>NDF</th>\n",
       "      <th>ADF</th>\n",
       "      <th>Ca</th>\n",
       "      <th>Phos</th>\n",
       "    </tr>\n",
       "  </thead>\n",
       "  <tbody>\n",
       "    <tr>\n",
       "      <th>0</th>\n",
       "      <td>Имся</td>\n",
       "      <td>единица</td>\n",
       "      <td>руб</td>\n",
       "      <td>кг</td>\n",
       "      <td>кг</td>\n",
       "      <td>кг</td>\n",
       "      <td>кг</td>\n",
       "      <td>кг</td>\n",
       "      <td>кг</td>\n",
       "      <td>кг</td>\n",
       "      <td>кг</td>\n",
       "    </tr>\n",
       "    <tr>\n",
       "      <th>1</th>\n",
       "      <td>Ячмень зерно</td>\n",
       "      <td>кг</td>\n",
       "      <td>10.000</td>\n",
       "      <td>0.900</td>\n",
       "      <td>1.111</td>\n",
       "      <td>0.150</td>\n",
       "      <td>0.500</td>\n",
       "      <td>0.200</td>\n",
       "      <td>0.100</td>\n",
       "      <td>0.002</td>\n",
       "      <td>0.003</td>\n",
       "    </tr>\n",
       "    <tr>\n",
       "      <th>2</th>\n",
       "      <td>Кукуруза зерно</td>\n",
       "      <td>кг</td>\n",
       "      <td>15.000</td>\n",
       "      <td>0.800</td>\n",
       "      <td>1.250</td>\n",
       "      <td>0.100</td>\n",
       "      <td>0.600</td>\n",
       "      <td>0.250</td>\n",
       "      <td>0.150</td>\n",
       "      <td>0.003</td>\n",
       "      <td>0.004</td>\n",
       "    </tr>\n",
       "    <tr>\n",
       "      <th>3</th>\n",
       "      <td>Силос</td>\n",
       "      <td>кг</td>\n",
       "      <td>5.000</td>\n",
       "      <td>0.400</td>\n",
       "      <td>2.500</td>\n",
       "      <td>0.050</td>\n",
       "      <td>0.300</td>\n",
       "      <td>0.400</td>\n",
       "      <td>0.200</td>\n",
       "      <td>0.004</td>\n",
       "      <td>0.005</td>\n",
       "    </tr>\n",
       "    <tr>\n",
       "      <th>4</th>\n",
       "      <td>Соя шрот</td>\n",
       "      <td>кг</td>\n",
       "      <td>20.000</td>\n",
       "      <td>0.900</td>\n",
       "      <td>1.111</td>\n",
       "      <td>0.400</td>\n",
       "      <td>0.200</td>\n",
       "      <td>0.300</td>\n",
       "      <td>0.250</td>\n",
       "      <td>0.005</td>\n",
       "      <td>0.006</td>\n",
       "    </tr>\n",
       "  </tbody>\n",
       "</table>\n",
       "</div>"
      ],
      "text/plain": [
       "       Unnamed: 0      Имя    Цена  Сухое Натура  Сырой Крахмал    NDF    ADF  \\\n",
       "0            Имся  единица     руб     кг     кг     кг      кг     кг     кг   \n",
       "1    Ячмень зерно       кг  10.000  0.900  1.111  0.150   0.500  0.200  0.100   \n",
       "2  Кукуруза зерно       кг  15.000  0.800  1.250  0.100   0.600  0.250  0.150   \n",
       "3           Силос       кг   5.000  0.400  2.500  0.050   0.300  0.400  0.200   \n",
       "4        Соя шрот       кг  20.000  0.900  1.111  0.400   0.200  0.300  0.250   \n",
       "\n",
       "      Ca   Phos  \n",
       "0     кг     кг  \n",
       "1  0.002  0.003  \n",
       "2  0.003  0.004  \n",
       "3  0.004  0.005  \n",
       "4  0.005  0.006  "
      ]
     },
     "execution_count": 2,
     "metadata": {},
     "output_type": "execute_result"
    }
   ],
   "source": [
    "df=pd.read_excel('data1.xlsx')\n",
    "df"
   ]
  },
  {
   "cell_type": "code",
   "execution_count": 3,
   "id": "876c5245",
   "metadata": {},
   "outputs": [],
   "source": [
    "class method1():   \n",
    "    def __init__(self, products, bnd, comps, comps_bnd, matrix, costs, sootnosheniya=None):\n",
    "        self.products=products\n",
    "        self.bnd=bnd\n",
    "        self.comps=comps\n",
    "        self.comps_bnd=comps_bnd\n",
    "        self.ratio=sootnosheniya\n",
    "        self.main_mat=matrix[products, :][:, comps]\n",
    "        cond_l=[]\n",
    "        cond_r=[]\n",
    "        if comps_bnd:\n",
    "            for num, i in enumerate(comps_bnd):\n",
    "                if i[0]:\n",
    "                    cond_l.append(-self.main_mat[:, num])\n",
    "                    cond_r.append(-float(i[0]))\n",
    "                if i[1]:\n",
    "                    cond_l.append(self.main_mat[:, num])\n",
    "                    cond_r.append(float(i[1]))\n",
    "        self.cond_l=np.array(cond_l)\n",
    "        self.cond_r=np.array(cond_r)\n",
    "        self.costs=costs\n",
    "        self.result=None\n",
    "        self.KOEF=1.01\n",
    "        self.add=1\n",
    "\n",
    "    def get_ratio(products, comps, sootnosheniya, main_mat):\n",
    "        for_ratio=np.zeros([len(sootnosheniya), len(products)])\n",
    "        for num, i in enumerate(sootnosheniya):\n",
    "            chisl=0\n",
    "            znam=0\n",
    "            idx1=0\n",
    "            idx2=0\n",
    "            for num1, j in enumerate(i):\n",
    "                if j!=0:\n",
    "                    if j!=1 and j!=-1:\n",
    "                        chisl=j\n",
    "                        idx1=num1\n",
    "                    else:\n",
    "                        znam=j\n",
    "                        idx2=num1\n",
    "            for_ratio[num]=main_mat[:, idx2]*chisl-main_mat[:, idx1]*znam\n",
    "        return for_ratio\n",
    "        \n",
    "    def find_opt(self, ratio=None, cond_r=None, mode=1):\n",
    "        if ratio is None and not self.ratio is None:\n",
    "            ratio=self.ratio\n",
    "        if cond_r is None and len(self.cond_r)!=0:\n",
    "            cond_r=self.cond_r   \n",
    "        \n",
    "        if not self.ratio is None and mode==1:\n",
    "            if len(self.cond_l)>0:\n",
    "                ratio_stats=method1.get_ratio(products, comps, ratio, self.main_mat)\n",
    "                A_ub=np.concatenate([self.cond_l, ratio_stats], axis=0)\n",
    "                b_ub=np.concatenate([cond_r, np.zeros(len(ratio_stats))], axis=0)\n",
    "            else:\n",
    "                A_ub=ratio_stats\n",
    "                b_ub=self.np.zeros(len(ratio_stats))\n",
    "        else:\n",
    "            A_ub=self.cond_l\n",
    "            b_ub=cond_r\n",
    "            \n",
    "        opt = linprog(c=self.costs, \n",
    "        A_ub=A_ub,\n",
    "        b_ub=b_ub,\n",
    "        bounds=self.bnd,\n",
    "        method=\"highs\")\n",
    "        if opt.success:\n",
    "            result=np.around(np.matmul(opt.x, self.main_mat),3)\n",
    "            x=np.around(opt.x, 3)\n",
    "            fun=round(opt.fun, 3)           \n",
    "        else:\n",
    "            result=None\n",
    "            x=None\n",
    "            fun=None\n",
    "        if not ratio is None:\n",
    "            ratio=np.around(ratio, 3)       \n",
    "        return {'success':opt.success, 'x': x, 'fun':fun, 'comps': result,\n",
    "               'ratio': ratio, 'comps_bnd': np.around(cond_r, 3)}\n",
    "               \n",
    "    def find_opt_change_one(self):\n",
    "        results1=[]\n",
    "        for i in range(len(self.ratio)):\n",
    "            ratio=np.array(self.ratio)\n",
    "            cond_r=self.cond_r\n",
    "            ratio[i]=np.where((ratio[i]!=0) & (ratio[i]!=1), 0.01, ratio[i])\n",
    "            dis_ratio=ratio\n",
    "            res=self.find_opt(ratio=dis_ratio, cond_r=cond_r)\n",
    "            def funx1(ratio_val):\n",
    "                ratio[i]=np.where((ratio[i]!=0) & (ratio[i]!=1), ratio_val, ratio[i])\n",
    "                opt=self.find_opt(ratio=ratio, cond_r=cond_r)\n",
    "                if opt['success']:\n",
    "                    return np.linalg.norm(ratio-self.ratio)\n",
    "                else:\n",
    "                    return np.linalg.norm(self.ratio-res['ratio'])            \n",
    "            if res['success']:\n",
    "                for val  in res['ratio'][i]:\n",
    "                    if val!=0 and val!=1:\n",
    "                        break\n",
    "                min_res=minimize(funx1, val, method='Nelder-Mead')\n",
    "                ratio[i]=np.where((ratio[i]!=0) & (ratio[i]!=1), min_res.x, ratio[i])\n",
    "                results1.append((cond_r, ratio, min_res.fun))\n",
    "        results2=[]\n",
    "        for i in range(len(self.cond_r)):\n",
    "            ratio=np.array(self.ratio)\n",
    "            cond_r=self.cond_r.copy()\n",
    "            cond_r_max=cond_r.copy()\n",
    "            cond_r_max[i]=np.where(cond_r[i]>0, cond_r[i]*100, 0)\n",
    "            res=self.find_opt(ratio=ratio, cond_r=cond_r_max)\n",
    "            def funx2(cond_i):\n",
    "                cond=cond_r.copy()\n",
    "                cond[i]=cond_i\n",
    "                opt=self.find_opt(ratio=ratio, cond_r=cond)\n",
    "                if opt['success']:\n",
    "                    return np.linalg.norm(cond-self.cond_r)\n",
    "                else:\n",
    "                    return np.linalg.norm(self.cond_r-res['comps_bnd'])\n",
    "            if res['success']:\n",
    "                min_res=minimize(funx2, res['comps_bnd'][i], method='Nelder-Mead')\n",
    "                cond_r[i]=min_res.x\n",
    "                results2.append((cond_r, ratio, min_res.fun))\n",
    "        if results1:\n",
    "            idx=np.argmin([x[2] for x in results1])\n",
    "            res1=self.find_opt(ratio=results1[idx][1], cond_r=results1[idx][0])\n",
    "        else:\n",
    "            res1=None\n",
    "        if results2:\n",
    "            idx=np.argmin([x[2] for x in results2])\n",
    "            res2=self.find_opt(ratio=results2[idx][1], cond_r=results2[idx][0])\n",
    "        else:\n",
    "            res2=None\n",
    "        return {'Пропорции': res1, 'Границы компонетов': res2}"
   ]
  },
  {
   "cell_type": "code",
   "execution_count": 4,
   "id": "bbb90fc7",
   "metadata": {},
   "outputs": [],
   "source": [
    "datas=df.drop([0], axis=0).drop(['Unnamed: 0', 'Имя'], axis=1).astype(float).to_numpy()\n",
    "costs=datas[:, 0]\n",
    "voda=datas[:, 2:3]\n",
    "componets_for_div=datas[:, 2:]\n",
    "divided=componets_for_div/voda\n",
    "divided=np.transpose(np.transpose(divided))\n",
    "matrix=np.concatenate([datas[:,1].reshape((4, 1)), divided], axis=1)"
   ]
  },
  {
   "cell_type": "markdown",
   "id": "30067185",
   "metadata": {},
   "source": [
    "Первый индекс описывает продукт\n",
    "1\tЯчмень зерно\t\n",
    "2\tКукуруза зерно\t\n",
    "3\tСилос\t\n",
    "4\tСоя шрот\n",
    "Второй индекс описывает компонент (кроме натурального, ушёл как коэф.)\n",
    "1 Сухое\n",
    "2 Натур\n",
    "3 Сырой\n",
    "4 Крахмал\n",
    "5 NDF\n",
    "6 ADF\n",
    "7 Ca\n",
    "8 Phos"
   ]
  },
  {
   "cell_type": "markdown",
   "id": "a00fe0af",
   "metadata": {},
   "source": [
    "## Пример1"
   ]
  },
  {
   "cell_type": "code",
   "execution_count": 5,
   "id": "e19c1da4",
   "metadata": {},
   "outputs": [],
   "source": [
    "products=[0, 1, 2]#Номера продуктов\n",
    "bnd=[[0, 5], [0, 10], [0, float('inf')]]#Ограничения на продукты\n",
    "comps=[0, 1, 2, 3]#Номера компонентов\n",
    "comps_bnd=[[10, None],[20, None],[1.5, None], [6, None]]#Ограничения на компоненты\n",
    "sootnosheniya=[[0.6, 1, 0, 0], [1, 0, 0.12, 0]]#соотношения компонентов\n",
    "#комп1/комп2>=0.6 комп3/комп1>=0.12"
   ]
  },
  {
   "cell_type": "code",
   "execution_count": 6,
   "id": "c77b3245",
   "metadata": {},
   "outputs": [],
   "source": [
    "test1=method1(products,\n",
    "             bnd,\n",
    "             comps,\n",
    "             comps_bnd,\n",
    "             matrix,\n",
    "             costs[products],\n",
    "             sootnosheniya)"
   ]
  },
  {
   "cell_type": "markdown",
   "id": "c10e0766",
   "metadata": {},
   "source": [
    "Если условие >=, то данные идут с плюсом.\n",
    "Если <=, то надо умножить c -1."
   ]
  },
  {
   "cell_type": "code",
   "execution_count": 7,
   "id": "61524cfa",
   "metadata": {
    "scrolled": true
   },
   "outputs": [
    {
     "data": {
      "text/plain": [
       "{'success': False,\n",
       " 'x': None,\n",
       " 'fun': None,\n",
       " 'comps': None,\n",
       " 'ratio': array([[0.6 , 1.  , 0.  , 0.  ],\n",
       "        [1.  , 0.  , 0.12, 0.  ]]),\n",
       " 'comps_bnd': array([-10. , -20. ,  -1.5,  -6. ])}"
      ]
     },
     "execution_count": 7,
     "metadata": {},
     "output_type": "execute_result"
    }
   ],
   "source": [
    "opt=test1.find_opt()\n",
    "opt"
   ]
  },
  {
   "cell_type": "code",
   "execution_count": 8,
   "id": "704b1d42",
   "metadata": {},
   "outputs": [
    {
     "data": {
      "text/plain": [
       "{'Пропорции': {'success': True,\n",
       "  'x': array([ 5., 10.,  5.]),\n",
       "  'fun': 224.997,\n",
       "  'comps': array([14.5  , 20.   ,  1.575,  7.65 ]),\n",
       "  'ratio': array([[0.6  , 1.   , 0.   , 0.   ],\n",
       "         [1.   , 0.   , 0.109, 0.   ]]),\n",
       "  'comps_bnd': array([-10. , -20. ,  -1.5,  -6. ])},\n",
       " 'Границы компонетов': None}"
      ]
     },
     "execution_count": 8,
     "metadata": {},
     "output_type": "execute_result"
    }
   ],
   "source": [
    "res1=test1.find_opt_change_one()\n",
    "res1"
   ]
  },
  {
   "cell_type": "markdown",
   "id": "1122f4fd",
   "metadata": {},
   "source": [
    "## Пример 2"
   ]
  },
  {
   "cell_type": "code",
   "execution_count": 9,
   "id": "94733f1b",
   "metadata": {},
   "outputs": [],
   "source": [
    "products=[0, 1, 2]#Номера продуктов\n",
    "bnd=[[0, 5], [0, 10], [0, float('inf')]]#Ограничения на продукты\n",
    "comps=[0, 1, 2, 3]#Номера компонентов\n",
    "comps_bnd=[[10, None],[None, None],[2, None], [None, None]]#Ограничения на компоненты\n",
    "sootnosheniya=[[0.6, 1, 0, 0]]#соотношения компонентов\n",
    "#комп1/комп2>=0.6 комп3/комп1>=0.12\n",
    "test2=method1(products,\n",
    "             bnd,\n",
    "             comps,\n",
    "             comps_bnd,\n",
    "             matrix,\n",
    "             costs[products],\n",
    "             sootnosheniya)"
   ]
  },
  {
   "cell_type": "code",
   "execution_count": 10,
   "id": "9f8a6542",
   "metadata": {},
   "outputs": [
    {
     "data": {
      "text/plain": [
       "{'success': False,\n",
       " 'x': None,\n",
       " 'fun': None,\n",
       " 'comps': None,\n",
       " 'ratio': array([[0.6, 1. , 0. , 0. ]]),\n",
       " 'comps_bnd': array([-10.,  -2.])}"
      ]
     },
     "execution_count": 10,
     "metadata": {},
     "output_type": "execute_result"
    }
   ],
   "source": [
    "opt=test2.find_opt()\n",
    "opt"
   ]
  },
  {
   "cell_type": "code",
   "execution_count": 11,
   "id": "076ae1c7",
   "metadata": {},
   "outputs": [
    {
     "data": {
      "text/plain": [
       "{'Пропорции': {'success': True,\n",
       "  'x': array([ 5.   , 10.   , 26.247]),\n",
       "  'fun': 331.233,\n",
       "  'comps': array([22.999, 41.247,  2.   , 10.2  ]),\n",
       "  'ratio': array([[0.558, 1.   , 0.   , 0.   ]]),\n",
       "  'comps_bnd': array([-10.,  -2.])},\n",
       " 'Границы компонетов': {'success': True,\n",
       "  'x': array([ 5.   , 10.   , 17.497]),\n",
       "  'fun': 287.483,\n",
       "  'comps': array([19.499, 32.497,  1.825,  9.15 ]),\n",
       "  'ratio': array([[0.6, 1. , 0. , 0. ]]),\n",
       "  'comps_bnd': array([-10.   ,  -1.825])}}"
      ]
     },
     "execution_count": 11,
     "metadata": {},
     "output_type": "execute_result"
    }
   ],
   "source": [
    "opt=test2.find_opt_change_one()\n",
    "opt"
   ]
  },
  {
   "cell_type": "markdown",
   "id": "3ae83557",
   "metadata": {},
   "source": [
    "## Пример 3"
   ]
  },
  {
   "cell_type": "code",
   "execution_count": 12,
   "id": "e5b58dba",
   "metadata": {},
   "outputs": [],
   "source": [
    "products=[0, 1, 2]#Номера продуктов\n",
    "bnd=[[5, 5], [8.75, 8.75], [1.25, 1.25]]#Ограничения на продукты\n",
    "comps=[0, 1, 2, 3]#Номера компонентов\n",
    "comps_bnd=[[10, None],[15, None],[1.3, None], [None, None]]#Ограничения на компоненты\n",
    "sootnosheniya=[[0.8, 1, 0, 0],  [0.2, 0, 0.0, 1]]#соотношения компонентов\n",
    "test3=method1(products,\n",
    "             bnd,\n",
    "             comps,\n",
    "             comps_bnd,\n",
    "             matrix,\n",
    "             costs[products],\n",
    "             sootnosheniya)"
   ]
  },
  {
   "cell_type": "code",
   "execution_count": 13,
   "id": "8e5020a8",
   "metadata": {},
   "outputs": [
    {
     "data": {
      "text/plain": [
       "{'success': True,\n",
       " 'x': array([5.  , 8.75, 1.25]),\n",
       " 'fun': 187.5,\n",
       " 'comps': array([12. , 15. ,  1.4,  6.6]),\n",
       " 'ratio': array([[0.8, 1. , 0. , 0. ],\n",
       "        [0.2, 0. , 0. , 1. ]]),\n",
       " 'comps_bnd': array([-10. , -15. ,  -1.3])}"
      ]
     },
     "execution_count": 13,
     "metadata": {},
     "output_type": "execute_result"
    }
   ],
   "source": [
    "opt=test3.find_opt()\n",
    "opt"
   ]
  },
  {
   "cell_type": "code",
   "execution_count": 14,
   "id": "a99d0da3",
   "metadata": {},
   "outputs": [
    {
     "data": {
      "text/plain": [
       "{'Пропорции': {'success': True,\n",
       "  'x': array([5.  , 8.75, 1.25]),\n",
       "  'fun': 187.5,\n",
       "  'comps': array([12. , 15. ,  1.4,  6.6]),\n",
       "  'ratio': array([[0.8, 1. , 0. , 0. ],\n",
       "         [0.2, 0. , 0. , 1. ]]),\n",
       "  'comps_bnd': array([-10. , -15. ,  -1.3])},\n",
       " 'Границы компонетов': {'success': True,\n",
       "  'x': array([5.  , 8.75, 1.25]),\n",
       "  'fun': 187.5,\n",
       "  'comps': array([12. , 15. ,  1.4,  6.6]),\n",
       "  'ratio': array([[0.8, 1. , 0. , 0. ],\n",
       "         [0.2, 0. , 0. , 1. ]]),\n",
       "  'comps_bnd': array([-10. , -15. ,  -1.3])}}"
      ]
     },
     "execution_count": 14,
     "metadata": {},
     "output_type": "execute_result"
    }
   ],
   "source": [
    "opt=test3.find_opt_change_one()\n",
    "opt"
   ]
  },
  {
   "cell_type": "code",
   "execution_count": null,
   "id": "5cee261b",
   "metadata": {},
   "outputs": [],
   "source": []
  }
 ],
 "metadata": {
  "kernelspec": {
   "display_name": "Python 3 (ipykernel)",
   "language": "python",
   "name": "python3"
  },
  "language_info": {
   "codemirror_mode": {
    "name": "ipython",
    "version": 3
   },
   "file_extension": ".py",
   "mimetype": "text/x-python",
   "name": "python",
   "nbconvert_exporter": "python",
   "pygments_lexer": "ipython3",
   "version": "3.10.9"
  }
 },
 "nbformat": 4,
 "nbformat_minor": 5
}
