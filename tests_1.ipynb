{
 "cells": [
  {
   "cell_type": "code",
   "execution_count": 1,
   "id": "57109406",
   "metadata": {},
   "outputs": [],
   "source": [
    "import pandas as pd\n",
    "from scipy.optimize import linprog\n",
    "import numpy as np"
   ]
  },
  {
   "cell_type": "code",
   "execution_count": 2,
   "id": "c5df3e30",
   "metadata": {},
   "outputs": [
    {
     "data": {
      "text/html": [
       "<div>\n",
       "<style scoped>\n",
       "    .dataframe tbody tr th:only-of-type {\n",
       "        vertical-align: middle;\n",
       "    }\n",
       "\n",
       "    .dataframe tbody tr th {\n",
       "        vertical-align: top;\n",
       "    }\n",
       "\n",
       "    .dataframe thead th {\n",
       "        text-align: right;\n",
       "    }\n",
       "</style>\n",
       "<table border=\"1\" class=\"dataframe\">\n",
       "  <thead>\n",
       "    <tr style=\"text-align: right;\">\n",
       "      <th></th>\n",
       "      <th>Unnamed: 0</th>\n",
       "      <th>Имя</th>\n",
       "      <th>Цена</th>\n",
       "      <th>Сухое</th>\n",
       "      <th>Натура</th>\n",
       "      <th>Сырой</th>\n",
       "      <th>Крахмал</th>\n",
       "      <th>NDF</th>\n",
       "      <th>ADF</th>\n",
       "      <th>Ca</th>\n",
       "      <th>Phos</th>\n",
       "    </tr>\n",
       "  </thead>\n",
       "  <tbody>\n",
       "    <tr>\n",
       "      <th>0</th>\n",
       "      <td>Имся</td>\n",
       "      <td>единица</td>\n",
       "      <td>руб</td>\n",
       "      <td>кг</td>\n",
       "      <td>кг</td>\n",
       "      <td>кг</td>\n",
       "      <td>кг</td>\n",
       "      <td>кг</td>\n",
       "      <td>кг</td>\n",
       "      <td>кг</td>\n",
       "      <td>кг</td>\n",
       "    </tr>\n",
       "    <tr>\n",
       "      <th>1</th>\n",
       "      <td>Ячмень зерно</td>\n",
       "      <td>кг</td>\n",
       "      <td>10.000</td>\n",
       "      <td>0.900</td>\n",
       "      <td>1.111</td>\n",
       "      <td>0.150</td>\n",
       "      <td>0.500</td>\n",
       "      <td>0.200</td>\n",
       "      <td>0.100</td>\n",
       "      <td>0.002</td>\n",
       "      <td>0.003</td>\n",
       "    </tr>\n",
       "    <tr>\n",
       "      <th>2</th>\n",
       "      <td>Кукуруза зерно</td>\n",
       "      <td>кг</td>\n",
       "      <td>15.000</td>\n",
       "      <td>0.800</td>\n",
       "      <td>1.250</td>\n",
       "      <td>0.100</td>\n",
       "      <td>0.600</td>\n",
       "      <td>0.250</td>\n",
       "      <td>0.150</td>\n",
       "      <td>0.003</td>\n",
       "      <td>0.004</td>\n",
       "    </tr>\n",
       "    <tr>\n",
       "      <th>3</th>\n",
       "      <td>Силос</td>\n",
       "      <td>кг</td>\n",
       "      <td>5.000</td>\n",
       "      <td>0.400</td>\n",
       "      <td>2.500</td>\n",
       "      <td>0.050</td>\n",
       "      <td>0.300</td>\n",
       "      <td>0.400</td>\n",
       "      <td>0.200</td>\n",
       "      <td>0.004</td>\n",
       "      <td>0.005</td>\n",
       "    </tr>\n",
       "    <tr>\n",
       "      <th>4</th>\n",
       "      <td>Соя шрот</td>\n",
       "      <td>кг</td>\n",
       "      <td>20.000</td>\n",
       "      <td>0.900</td>\n",
       "      <td>1.111</td>\n",
       "      <td>0.400</td>\n",
       "      <td>0.200</td>\n",
       "      <td>0.300</td>\n",
       "      <td>0.250</td>\n",
       "      <td>0.005</td>\n",
       "      <td>0.006</td>\n",
       "    </tr>\n",
       "  </tbody>\n",
       "</table>\n",
       "</div>"
      ],
      "text/plain": [
       "       Unnamed: 0      Имя    Цена  Сухое Натура  Сырой Крахмал    NDF    ADF  \\\n",
       "0            Имся  единица     руб     кг     кг     кг      кг     кг     кг   \n",
       "1    Ячмень зерно       кг  10.000  0.900  1.111  0.150   0.500  0.200  0.100   \n",
       "2  Кукуруза зерно       кг  15.000  0.800  1.250  0.100   0.600  0.250  0.150   \n",
       "3           Силос       кг   5.000  0.400  2.500  0.050   0.300  0.400  0.200   \n",
       "4        Соя шрот       кг  20.000  0.900  1.111  0.400   0.200  0.300  0.250   \n",
       "\n",
       "      Ca   Phos  \n",
       "0     кг     кг  \n",
       "1  0.002  0.003  \n",
       "2  0.003  0.004  \n",
       "3  0.004  0.005  \n",
       "4  0.005  0.006  "
      ]
     },
     "execution_count": 2,
     "metadata": {},
     "output_type": "execute_result"
    }
   ],
   "source": [
    "df=pd.read_excel('data1.xlsx')\n",
    "df"
   ]
  },
  {
   "cell_type": "code",
   "execution_count": 3,
   "id": "876c5245",
   "metadata": {},
   "outputs": [],
   "source": [
    "class method1():\n",
    "    def __init__(self, nerva_lp, nerva_rp, costs, bnd, ratio=None):\n",
    "        self.nerva_lp=nerva_lp\n",
    "        self.nerva_rp=nerva_rp\n",
    "        self.costs=costs\n",
    "        self.bnd=bnd\n",
    "        self.ratio=ratio\n",
    "#         self.eq_lp=eq_lp\n",
    "#         self.eq_rp=eq_rp\n",
    "    \n",
    "    def find_opt(self):\n",
    "        if not self.ratio is None:\n",
    "            A_ub=np.concatenate([self.nerva_lp, self.ratio], axis=0)\n",
    "            b_ub=np.concatenate([self.nerva_rp, np.zeros(self.ratio.shape[0])], axis=0)\n",
    "        else:\n",
    "            A_ub=self.nerva_lp\n",
    "            b_ub=self.nerva_rp\n",
    "        opt = linprog(c=self.costs, \n",
    "        A_ub=A_ub,\n",
    "        b_ub=b_ub,\n",
    "        #A_eq=eq_lp, b_eq=eq_rp, \n",
    "        bounds=self.bnd,\n",
    "        method=\"highs\")\n",
    "        return {'success':opt.success, 'x':opt.x, 'fun':opt.fun}\n",
    "    \n",
    "    def bnd2condition(comps_bnd):\n",
    "        cond_l=[]\n",
    "        cond_r=[]\n",
    "        for num, i in enumerate(comps_bnd):\n",
    "            if i[0]:\n",
    "                cond_l.append(-main_mat[:, num])\n",
    "                cond_r.append(-i[0])\n",
    "            if i[1]:\n",
    "                cond_l.append(main_mat[:, num])\n",
    "                cond_r.append(i[1])\n",
    "        cond_l=np.array(cond_l)\n",
    "        cond_r=np.array(cond_r)\n",
    "        return cond_l, cond_r\n",
    "    \n",
    "    def get_data(products, comps, sootnosheniya):\n",
    "        main_mat=matrix[products, :][:, comps]\n",
    "        for_ratio=np.zeros([len(sootnosheniya), len(products)])\n",
    "        for num, i in enumerate(sootnosheniya):\n",
    "            chisl=0\n",
    "            znam=0\n",
    "            idx1=0\n",
    "            idx2=0\n",
    "            for num1, j in enumerate(i):\n",
    "                if j!=0:\n",
    "                    if j!=1 and j!=-1:\n",
    "                        chisl=j\n",
    "                        idx1=num1\n",
    "                    else:\n",
    "                        znam=j\n",
    "                        idx2=num1\n",
    "            for_ratio[num]=main_mat[:, idx2]*chisl-main_mat[:, idx1]*znam\n",
    "        return main_mat, for_ratio\n",
    "    \n",
    "    def change_bnd(self):\n",
    "        #self.bnd=np.stack([np.where(self.bnd[:, 0]-[1/costs[0]]<0, 0, self.bnd[:, 0]-[1/costs[1]]), self.bnd[:, 1]+[1/costs[0]]], axis=1)\n",
    "        self.nerva_rp=np.where(test1.nerva_rp[:]>0, test1.nerva_rp[:]*1.1, test1.nerva_rp[:]/1.1)\n",
    "        #print(self.nerva_rp)\n",
    "        \n",
    "    def find_rad(self, num):\n",
    "        counter=0\n",
    "        if num==1:\n",
    "            #Постепенно расширяет границы условий\n",
    "            while not self.find_opt()['success']:\n",
    "                self.change_bnd()\n",
    "                print('№', counter, self.nerva_rp)\n",
    "                counter+=1\n",
    "        elif num==2:\n",
    "#             A_ub=self.nerva_lp\n",
    "#             b_ub=np.where(test1.nerva_rp[:]>0, float('inf'), 0)\n",
    "            opt = linprog(c=self.costs, \n",
    "            A_ub=[[0]*len(self.nerva_lp)],\n",
    "            b_ub=[0],\n",
    "            #A_eq=eq_lp, b_eq=eq_rp, \n",
    "            bounds=self.bnd,\n",
    "            method=\"highs\")\n",
    "            return {'success':opt.success, 'x':opt.x, 'fun':opt.fun}\n",
    "            \n",
    "        return self.find_opt()"
   ]
  },
  {
   "cell_type": "code",
   "execution_count": 4,
   "id": "bbb90fc7",
   "metadata": {},
   "outputs": [
    {
     "data": {
      "text/plain": [
       "array([[1.000e+01, 9.000e-01, 1.111e+00, 1.500e-01, 5.000e-01, 2.000e-01,\n",
       "        1.000e-01, 2.000e-03, 3.000e-03],\n",
       "       [1.500e+01, 8.000e-01, 1.250e+00, 1.000e-01, 6.000e-01, 2.500e-01,\n",
       "        1.500e-01, 3.000e-03, 4.000e-03],\n",
       "       [5.000e+00, 4.000e-01, 2.500e+00, 5.000e-02, 3.000e-01, 4.000e-01,\n",
       "        2.000e-01, 4.000e-03, 5.000e-03],\n",
       "       [2.000e+01, 9.000e-01, 1.111e+00, 4.000e-01, 2.000e-01, 3.000e-01,\n",
       "        2.500e-01, 5.000e-03, 6.000e-03]])"
      ]
     },
     "execution_count": 4,
     "metadata": {},
     "output_type": "execute_result"
    }
   ],
   "source": [
    "datas=df.drop([0], axis=0).drop(['Unnamed: 0', 'Имя'], axis=1).astype(float).to_numpy()\n",
    "datas"
   ]
  },
  {
   "cell_type": "code",
   "execution_count": 5,
   "id": "bbf9a77d",
   "metadata": {},
   "outputs": [
    {
     "data": {
      "text/plain": [
       "array([10., 15.,  5., 20.])"
      ]
     },
     "execution_count": 5,
     "metadata": {},
     "output_type": "execute_result"
    }
   ],
   "source": [
    "costs=datas[:, 0]\n",
    "costs"
   ]
  },
  {
   "cell_type": "code",
   "execution_count": 6,
   "id": "e49f54ba",
   "metadata": {},
   "outputs": [
    {
     "data": {
      "text/plain": [
       "array([[1.111],\n",
       "       [1.25 ],\n",
       "       [2.5  ],\n",
       "       [1.111]])"
      ]
     },
     "execution_count": 6,
     "metadata": {},
     "output_type": "execute_result"
    }
   ],
   "source": [
    "voda=datas[:, 2:3]\n",
    "voda"
   ]
  },
  {
   "cell_type": "code",
   "execution_count": 7,
   "id": "994d2733",
   "metadata": {},
   "outputs": [
    {
     "data": {
      "text/plain": [
       "array([[0.15 , 0.5  , 0.2  , 0.1  , 0.002, 0.003],\n",
       "       [0.1  , 0.6  , 0.25 , 0.15 , 0.003, 0.004],\n",
       "       [0.05 , 0.3  , 0.4  , 0.2  , 0.004, 0.005],\n",
       "       [0.4  , 0.2  , 0.3  , 0.25 , 0.005, 0.006]])"
      ]
     },
     "execution_count": 7,
     "metadata": {},
     "output_type": "execute_result"
    }
   ],
   "source": [
    "componets_for_div=datas[:, 3:]\n",
    "componets_for_div"
   ]
  },
  {
   "cell_type": "code",
   "execution_count": 8,
   "id": "7f498f2f",
   "metadata": {},
   "outputs": [
    {
     "data": {
      "text/plain": [
       "array([[0.1350135 , 0.450045  , 0.180018  , 0.090009  , 0.00180018,\n",
       "        0.00270027],\n",
       "       [0.08      , 0.48      , 0.2       , 0.12      , 0.0024    ,\n",
       "        0.0032    ],\n",
       "       [0.02      , 0.12      , 0.16      , 0.08      , 0.0016    ,\n",
       "        0.002     ],\n",
       "       [0.360036  , 0.180018  , 0.270027  , 0.2250225 , 0.00450045,\n",
       "        0.00540054]])"
      ]
     },
     "execution_count": 8,
     "metadata": {},
     "output_type": "execute_result"
    }
   ],
   "source": [
    "divided=componets_for_div/voda\n",
    "divided"
   ]
  },
  {
   "cell_type": "code",
   "execution_count": 9,
   "id": "88f780ed",
   "metadata": {},
   "outputs": [
    {
     "data": {
      "text/plain": [
       "array([[1.11100000e+00, 1.35013501e-01, 4.50045005e-01, 1.80018002e-01,\n",
       "        9.00090009e-02, 1.80018002e-03, 2.70027003e-03],\n",
       "       [1.25000000e+00, 8.00000000e-02, 4.80000000e-01, 2.00000000e-01,\n",
       "        1.20000000e-01, 2.40000000e-03, 3.20000000e-03],\n",
       "       [2.50000000e+00, 2.00000000e-02, 1.20000000e-01, 1.60000000e-01,\n",
       "        8.00000000e-02, 1.60000000e-03, 2.00000000e-03],\n",
       "       [1.11100000e+00, 3.60036004e-01, 1.80018002e-01, 2.70027003e-01,\n",
       "        2.25022502e-01, 4.50045005e-03, 5.40054005e-03]])"
      ]
     },
     "execution_count": 9,
     "metadata": {},
     "output_type": "execute_result"
    }
   ],
   "source": [
    "divided=np.transpose(np.transpose(np.concatenate([datas[:, 2:3], divided], axis=1)))\n",
    "divided"
   ]
  },
  {
   "cell_type": "code",
   "execution_count": 10,
   "id": "aa990b6b",
   "metadata": {},
   "outputs": [
    {
     "data": {
      "text/plain": [
       "array([[9.00000000e-01, 1.11100000e+00, 1.35013501e-01, 4.50045005e-01,\n",
       "        1.80018002e-01, 9.00090009e-02, 1.80018002e-03, 2.70027003e-03],\n",
       "       [8.00000000e-01, 1.25000000e+00, 8.00000000e-02, 4.80000000e-01,\n",
       "        2.00000000e-01, 1.20000000e-01, 2.40000000e-03, 3.20000000e-03],\n",
       "       [4.00000000e-01, 2.50000000e+00, 2.00000000e-02, 1.20000000e-01,\n",
       "        1.60000000e-01, 8.00000000e-02, 1.60000000e-03, 2.00000000e-03],\n",
       "       [9.00000000e-01, 1.11100000e+00, 3.60036004e-01, 1.80018002e-01,\n",
       "        2.70027003e-01, 2.25022502e-01, 4.50045005e-03, 5.40054005e-03]])"
      ]
     },
     "execution_count": 10,
     "metadata": {},
     "output_type": "execute_result"
    }
   ],
   "source": [
    "matrix=np.concatenate([datas[:,1].reshape((4, 1)), divided], axis=1)\n",
    "matrix"
   ]
  },
  {
   "cell_type": "markdown",
   "id": "30067185",
   "metadata": {},
   "source": [
    "Первый индекс описывает продукт\n",
    "1\tЯчмень зерно\t\n",
    "2\tКукуруза зерно\t\n",
    "3\tСилос\t\n",
    "4\tСоя шрот\n",
    "Второй индекс описывает компонент (кроме натурального, ушёл как коэф.)\n",
    "1 Сухое\n",
    "2 Натур\n",
    "3 Сырой\n",
    "4 Крахмал\n",
    "5 NDF\n",
    "6 ADF\n",
    "7 Ca\n",
    "8 Phos"
   ]
  },
  {
   "cell_type": "markdown",
   "id": "86a96692",
   "metadata": {},
   "source": [
    "## Пример1"
   ]
  },
  {
   "cell_type": "code",
   "execution_count": 11,
   "id": "e19c1da4",
   "metadata": {},
   "outputs": [],
   "source": [
    "products=[0, 1, 2]#Номера продуктов\n",
    "bnd=[[0, 5], [0, 10], [0, float('inf')]]#Ограничения на продукты\n",
    "comps=[0, 1, 2, 3]#Номера компонентов\n",
    "comps_bnd=[[10, None],[20, None],[1.5, None], [6, None]]#Ограничения на компоненты\n",
    "sootnosheniya=[[0.6, 1, 0, 0], [1, 0, 0.12, 0]]#соотношения компонентов\n",
    "#комп1/комп2>=0.6 комп3/комп1>=0.12"
   ]
  },
  {
   "cell_type": "markdown",
   "id": "c10e0766",
   "metadata": {},
   "source": [
    "Если условие >=, то данные идут с плюсом.\n",
    "Если <=, то надо умножить c -1."
   ]
  },
  {
   "cell_type": "code",
   "execution_count": 12,
   "id": "61524cfa",
   "metadata": {},
   "outputs": [],
   "source": [
    "main_mat, for_ratio=method1.get_data(products, comps, sootnosheniya)\n",
    "cond_l, cond_r=method1.bnd2condition(comps_bnd)"
   ]
  },
  {
   "cell_type": "code",
   "execution_count": 13,
   "id": "16e18df1",
   "metadata": {},
   "outputs": [
    {
     "data": {
      "text/plain": [
       "{'success': False, 'x': None, 'fun': None}"
      ]
     },
     "execution_count": 13,
     "metadata": {},
     "output_type": "execute_result"
    }
   ],
   "source": [
    "test1=method1(cond_l, cond_r, costs[products], bnd=bnd, ratio=for_ratio)\n",
    "opt=test1.find_opt()\n",
    "opt"
   ]
  },
  {
   "cell_type": "code",
   "execution_count": 14,
   "id": "5c47cb16",
   "metadata": {},
   "outputs": [
    {
     "data": {
      "text/plain": [
       "{'success': True,\n",
       " 'x': array([ 5.        , 10.        ,  1.24662466]),\n",
       " 'fun': 206.23312331233123}"
      ]
     },
     "execution_count": 14,
     "metadata": {},
     "output_type": "execute_result"
    }
   ],
   "source": [
    "test1=method1(cond_l, cond_r, costs[products], bnd=bnd)\n",
    "opt=test1.find_opt()\n",
    "opt"
   ]
  },
  {
   "cell_type": "code",
   "execution_count": 15,
   "id": "82b16cde",
   "metadata": {},
   "outputs": [
    {
     "data": {
      "text/plain": [
       "array([12.99864986, 21.17156166,  1.5       ,  7.19981998])"
      ]
     },
     "execution_count": 15,
     "metadata": {},
     "output_type": "execute_result"
    }
   ],
   "source": [
    "#компоненты\n",
    "np.matmul(opt['x'], main_mat)"
   ]
  },
  {
   "cell_type": "code",
   "execution_count": 16,
   "id": "2c61866a",
   "metadata": {},
   "outputs": [
    {
     "name": "stdout",
     "output_type": "stream",
     "text": [
      "0.613967456727549 True\n",
      "0.11539660007616939 False\n"
     ]
    }
   ],
   "source": [
    "#Проверка соотношения\n",
    "proport=np.matmul(opt['x'], main_mat)\n",
    "print(proport[0]/proport[1], proport[0]/proport[1]>=0.6)\n",
    "print(proport[2]/proport[0], proport[2]/proport[0]>=0.12)"
   ]
  },
  {
   "cell_type": "markdown",
   "id": "cccdc8be",
   "metadata": {},
   "source": [
    "## Пример 2"
   ]
  },
  {
   "cell_type": "code",
   "execution_count": 17,
   "id": "e3477d5f",
   "metadata": {},
   "outputs": [],
   "source": [
    "products=[0, 1, 2]#Номера продуктов\n",
    "bnd=[[0, 5], [0, 10], [0, float('inf')]]#Ограничения на продукты\n",
    "comps=[0, 1, 2, 3]#Номера компонентов\n",
    "comps_bnd=[[10, None],[None, None],[2, None], [None, None]]#Ограничения на компоненты\n",
    "sootnosheniya=[[0.6, 1, 0, 0], [1, 0, 0.0, 0]]#соотношения компонентов\n",
    "#комп1/комп2>=0.6 комп3/комп1>=0.12\n",
    "main_mat, for_ratio=method1.get_data(products, comps, sootnosheniya)\n",
    "cond_l, cond_r=method1.bnd2condition(comps_bnd)"
   ]
  },
  {
   "cell_type": "code",
   "execution_count": 18,
   "id": "a64eeb92",
   "metadata": {},
   "outputs": [
    {
     "data": {
      "text/plain": [
       "{'success': False, 'x': None, 'fun': None}"
      ]
     },
     "execution_count": 18,
     "metadata": {},
     "output_type": "execute_result"
    }
   ],
   "source": [
    "test1=method1(cond_l, cond_r, costs[products], bnd=bnd, ratio=for_ratio)\n",
    "#test1=method1(cond_l, cond_r, costs[products], bnd=bnd)\n",
    "opt=test1.find_opt()\n",
    "opt"
   ]
  },
  {
   "cell_type": "code",
   "execution_count": 19,
   "id": "e606056c",
   "metadata": {},
   "outputs": [
    {
     "data": {
      "text/plain": [
       "{'success': True,\n",
       " 'x': array([ 5.        , 10.        , 26.24662466]),\n",
       " 'fun': 331.2331233123312}"
      ]
     },
     "execution_count": 19,
     "metadata": {},
     "output_type": "execute_result"
    }
   ],
   "source": [
    "test1=method1(cond_l, cond_r, costs[products], bnd=bnd)\n",
    "opt=test1.find_opt()\n",
    "opt"
   ]
  },
  {
   "cell_type": "code",
   "execution_count": 20,
   "id": "b623a39e",
   "metadata": {},
   "outputs": [
    {
     "data": {
      "text/plain": [
       "array([22.99864986, 83.67156166,  2.        , 10.19981998])"
      ]
     },
     "execution_count": 20,
     "metadata": {},
     "output_type": "execute_result"
    }
   ],
   "source": [
    "#компоненты\n",
    "np.matmul(opt['x'], main_mat)"
   ]
  },
  {
   "cell_type": "code",
   "execution_count": 21,
   "id": "76d19f7f",
   "metadata": {},
   "outputs": [
    {
     "name": "stdout",
     "output_type": "stream",
     "text": [
      "[22.99864986 83.67156166  2.         10.19981998]\n"
     ]
    }
   ],
   "source": [
    "#Проверка соотношения\n",
    "proport=np.matmul(opt['x'], main_mat)\n",
    "print(proport)"
   ]
  },
  {
   "cell_type": "markdown",
   "id": "6d13b2fb",
   "metadata": {},
   "source": [
    "## Пример 3"
   ]
  },
  {
   "cell_type": "code",
   "execution_count": 22,
   "id": "65e0a6ee",
   "metadata": {},
   "outputs": [],
   "source": [
    "products=[0, 1, 2]#Номера продуктов\n",
    "bnd=[[5, 5], [8.75, 8.75], [1.25, 1.25]]#Ограничения на продукты\n",
    "comps=[0, 1, 2, 3]#Номера компонентов\n",
    "comps_bnd=[[10, None],[15, None],[1.3, None], [None, None]]#Ограничения на компоненты\n",
    "sootnosheniya=[[0.8, 1, 0, 0],  [0.2, 0, 0.0, 1]]#соотношения компонентов\n",
    "#комп1/комп2>=0.6 комп3/комп1>=0.12\n",
    "main_mat, for_ratio=method1.get_data(products, comps, sootnosheniya)\n",
    "cond_l, cond_r=method1.bnd2condition(comps_bnd)"
   ]
  },
  {
   "cell_type": "code",
   "execution_count": 23,
   "id": "9a0cd1d5",
   "metadata": {},
   "outputs": [
    {
     "data": {
      "text/plain": [
       "{'success': False, 'x': None, 'fun': None}"
      ]
     },
     "execution_count": 23,
     "metadata": {},
     "output_type": "execute_result"
    }
   ],
   "source": [
    "test1=method1(cond_l, cond_r, costs[products], bnd=bnd, ratio=for_ratio)\n",
    "opt=test1.find_opt()\n",
    "opt"
   ]
  },
  {
   "cell_type": "code",
   "execution_count": 24,
   "id": "51b98126",
   "metadata": {},
   "outputs": [
    {
     "data": {
      "text/plain": [
       "{'success': True, 'x': array([5.  , 8.75, 1.25]), 'fun': 187.5}"
      ]
     },
     "execution_count": 24,
     "metadata": {},
     "output_type": "execute_result"
    }
   ],
   "source": [
    "test1=method1(cond_l, cond_r, costs[products], bnd=bnd)\n",
    "opt=test1.find_opt()\n",
    "opt"
   ]
  },
  {
   "cell_type": "code",
   "execution_count": 25,
   "id": "347192d3",
   "metadata": {},
   "outputs": [
    {
     "data": {
      "text/plain": [
       "array([12.        , 19.6175    ,  1.40006751,  6.60022502])"
      ]
     },
     "execution_count": 25,
     "metadata": {},
     "output_type": "execute_result"
    }
   ],
   "source": [
    "#компоненты\n",
    "np.matmul(opt['x'], main_mat)"
   ]
  },
  {
   "cell_type": "code",
   "execution_count": 26,
   "id": "34a00d23",
   "metadata": {},
   "outputs": [
    {
     "name": "stdout",
     "output_type": "stream",
     "text": [
      "0.6116987383713521 0.5500187518751876\n"
     ]
    }
   ],
   "source": [
    "#Проверка соотношения\n",
    "proport=np.matmul(opt['x'], main_mat)\n",
    "print(proport[0]/proport[1], proport[3]/proport[0])"
   ]
  },
  {
   "cell_type": "code",
   "execution_count": null,
   "id": "47bffe11",
   "metadata": {},
   "outputs": [],
   "source": []
  }
 ],
 "metadata": {
  "kernelspec": {
   "display_name": "Python 3 (ipykernel)",
   "language": "python",
   "name": "python3"
  },
  "language_info": {
   "codemirror_mode": {
    "name": "ipython",
    "version": 3
   },
   "file_extension": ".py",
   "mimetype": "text/x-python",
   "name": "python",
   "nbconvert_exporter": "python",
   "pygments_lexer": "ipython3",
   "version": "3.10.9"
  }
 },
 "nbformat": 4,
 "nbformat_minor": 5
}
